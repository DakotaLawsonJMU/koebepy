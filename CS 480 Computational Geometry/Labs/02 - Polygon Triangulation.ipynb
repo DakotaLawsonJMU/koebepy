{
 "cells": [
  {
   "cell_type": "markdown",
   "metadata": {},
   "source": [
    "# Polygon Triangulation Lab\n",
    "## CS 480 Computational Geometry\n",
    "### Prof. Bowers\n",
    "\n",
    "__Objectives__\n",
    "\n",
    "In this lab you will \n",
    "\n",
    "1. learn how to write a simple point set editor using the ipycanvas package, \n",
    "2. use the point set editor to draw an editable polygon, and\n",
    "3. code a simple triangulation algorithm based on the algorithm that comes from the proof that all polygons have a triangulation.  "
   ]
  },
  {
   "cell_type": "markdown",
   "metadata": {},
   "source": [
    "# Part 1: ipycanvas basics\n",
    "\n",
    "We're first going to use `ipycanvas` to generate a point set that is editable. `ipycanvas` is a python package that allows a jupyter notebook like this one to use a web technology called HTML5 Canvas which allows you to draw directly into the browser. The documentation for ipycanvas can be found at [ipycanvas.readthedocs.io](https://ipycanvas.readthedocs.io). \n",
    "\n",
    "Creating a canvas to draw into is really easy. Here's code for drawing a few rectangles of various colors. "
   ]
  },
  {
   "cell_type": "code",
   "execution_count": 13,
   "metadata": {
    "scrolled": true
   },
   "outputs": [
    {
     "data": {
      "application/vnd.jupyter.widget-view+json": {
       "model_id": "410193dcaa834d00aa96dfe3f4907659",
       "version_major": 2,
       "version_minor": 0
      },
      "text/plain": [
       "Canvas(layout=Layout(height='600px', width='600px'), size=(600, 600))"
      ]
     },
     "metadata": {},
     "output_type": "display_data"
    }
   ],
   "source": [
    "from ipycanvas import Canvas # Import the Canvas class\n",
    "\n",
    "canvas = Canvas(size=(600, 600)) # Create a 600x600 pixel canvas\n",
    "\n",
    "# Draw a few rectangles\n",
    "canvas.fill_style = 'green'\n",
    "canvas.fill_rect(50, 60, 20)\n",
    "\n",
    "canvas.fill_style = 'red'\n",
    "canvas.fill_rect(140, 30, 60, 70)\n",
    "\n",
    "canvas.stroke_style = 'blue'\n",
    "canvas.stroke_rect(30, 30, 40)\n",
    "\n",
    "# To output the actual view of the canvas to Jupyter, we simply\n",
    "# reference it on its own on the last line of the code block so \n",
    "# that Jupyter will show the result: \n",
    "canvas"
   ]
  },
  {
   "cell_type": "code",
   "execution_count": 15,
   "metadata": {},
   "outputs": [],
   "source": [
    "# You can also edit a canvas that is currently shown directly\n",
    "# by calling more methods on it. You should already see your canvas\n",
    "# above. Running the following code will show more: \n",
    "\n",
    "canvas.fill_style = 'blue'\n",
    "canvas.fill_rects([30, 50, 100, 200], [250, 300, 345, 275], 15)"
   ]
  },
  {
   "cell_type": "markdown",
   "metadata": {},
   "source": [
    "Modify the call to `fill_rects` in the block above to change the color to yellow and change the coordinates of the four squares drawn by a little bit. \n",
    "\n",
    "Notice that the calls to `fill_rects` just color over what has been already drawn. If you want to actually refresh the canvas before drawing, you need to call `canvas.clear()`. \n",
    "\n",
    "Notice also that `fill_rects` takes its rectangle corners as a list of x-coordinates followed by a list of y-coordinates. \n",
    "\n",
    "As a bit of a subtle point, every `.fill_*` or `.stroke_` command used as above generates communication between the presentation layer in the browser and the jupyter notebook server. Sending a lot of drawing commands one after another in this way is slow. `ipycanvas` has a special object called `hold_canvas` that can be used in conjunction with Pythons built in `with` construct to collect all of this into one communication dump, which vastly improves the drawing speed. Here's the same example as above except using a with construct. Note that we ammended the `import` statement to include `hold_canvas`. "
   ]
  },
  {
   "cell_type": "code",
   "execution_count": 17,
   "metadata": {},
   "outputs": [
    {
     "data": {
      "application/vnd.jupyter.widget-view+json": {
       "model_id": "14fb67059b814be3aa24d159c2638f5b",
       "version_major": 2,
       "version_minor": 0
      },
      "text/plain": [
       "Canvas(layout=Layout(height='600px', width='600px'), size=(600, 600))"
      ]
     },
     "metadata": {},
     "output_type": "display_data"
    }
   ],
   "source": [
    "from ipycanvas import Canvas, hold_canvas # Import the Canvas class\n",
    "\n",
    "canvas2 = Canvas(size=(600, 600)) # Create a 600x600 pixel canvas\n",
    "\n",
    "# Draw a few rectangles, but delay communication to the canvas until \n",
    "# all drawing is completed on the python side. \n",
    "with hold_canvas(canvas2):\n",
    "    canvas2.fill_style = 'green'\n",
    "    canvas2.fill_rect(50, 60, 20)\n",
    "\n",
    "    canvas2.fill_style = 'red'\n",
    "    canvas2.fill_rect(140, 30, 60, 70)\n",
    "\n",
    "    canvas2.stroke_style = 'blue'\n",
    "    canvas2.stroke_rect(30, 30, 40)\n",
    "\n",
    "# To output the actual view of the canvas to Jupyter, we simply\n",
    "# reference it on its own on the last line of the code block so \n",
    "# that Jupyter will show the result: \n",
    "canvas2"
   ]
  },
  {
   "cell_type": "markdown",
   "metadata": {},
   "source": [
    "## Handling Mouse Events\n",
    "\n",
    "Mouse events are handled by registering a function called a \"handler\" with the canvas for the mouse move (any time the mouse is moving over the canvas), mouse down (the mouse button is pressed), and mouse up (the mouse button is released) events. Each handler function should have two parameters `x` and `y` for the coordinates of the mouse pointer at the time the event fired. \n",
    "\n",
    "A quick and dirty architecture for basic user interaction with a canvas follows. The basic idea is to package up the drawing commands into a `draw()` function that first clears the canvas, and then draws the main scene. A global variable `mouseDown` tracks whether the mouse is currently up or down. In this dummy example, the color of the square changes depending on whether the mouse is up, down, or down and moving so that you can see how the interaction events are fired. The current color is stored in a global variable `squareColor` which is modified by the mouse handler functions `handle_mouse_down`, `handle_mouse_up`, and `handle_mouse_move`. \n"
   ]
  },
  {
   "cell_type": "code",
   "execution_count": 27,
   "metadata": {},
   "outputs": [
    {
     "data": {
      "application/vnd.jupyter.widget-view+json": {
       "model_id": "1d71435cdf474e7698cc2f97c96632df",
       "version_major": 2,
       "version_minor": 0
      },
      "text/plain": [
       "Canvas(layout=Layout(height='300px', width='300px'), size=(300, 300))"
      ]
     },
     "metadata": {},
     "output_type": "display_data"
    }
   ],
   "source": [
    "from ipycanvas import Canvas, hold_canvas\n",
    "\n",
    "canvas3 = Canvas(size=(300, 300))\n",
    "squareColor = 'black'\n",
    "mouseDown = False \n",
    "\n",
    "\n",
    "def draw():\n",
    "    global squareColor, canvas3, mouseDown\n",
    "    with hold_canvas(canvas3):\n",
    "        canvas3.clear()\n",
    "        canvas3.fill_style = squareColor\n",
    "        canvas3.fill_rect(0, 0, 300)\n",
    "        if mouseDown:\n",
    "            canvas3.stroke_style = 'white'\n",
    "        else:\n",
    "            canvas3.stroke_style = 'yellow'\n",
    "        canvas3.stroke_rect(10, 10, 280)\n",
    "        \n",
    "def handle_mouse_down(x, y):\n",
    "    global squareColor, mouseDown\n",
    "    squareColor = 'red'\n",
    "    mouseDown = True\n",
    "    draw()\n",
    "\n",
    "def handle_mouse_up(x, y):\n",
    "    global squareColor, mouseDown\n",
    "    squareColor = 'green'\n",
    "    mouseDown = False\n",
    "    draw()\n",
    "\n",
    "def handle_mouse_move(x, y):\n",
    "    global squareColor, mouseDown\n",
    "    if mouseDown:\n",
    "        squareColor = 'blue'\n",
    "    else:\n",
    "        squareColor = 'black'\n",
    "    draw()\n",
    "\n",
    "canvas3.on_mouse_move(handle_mouse_move)\n",
    "canvas3.on_mouse_down(handle_mouse_down)\n",
    "canvas3.on_mouse_up(handle_mouse_up)\n",
    "\n",
    "draw() # Draw it to start off\n",
    "canvas3"
   ]
  },
  {
   "cell_type": "markdown",
   "metadata": {},
   "source": [
    "Here's a simple example where we keep track of the current `(x, y)` coordinates of the mouse cursor as a `PointE2` from the `koebe.py` library and draw a small square at that point."
   ]
  },
  {
   "cell_type": "code",
   "execution_count": 28,
   "metadata": {},
   "outputs": [
    {
     "data": {
      "application/vnd.jupyter.widget-view+json": {
       "model_id": "658d695970ba4b26b909972c1134bae7",
       "version_major": 2,
       "version_minor": 0
      },
      "text/plain": [
       "Canvas(layout=Layout(height='300px', width='300px'), size=(300, 300))"
      ]
     },
     "metadata": {},
     "output_type": "display_data"
    }
   ],
   "source": [
    "from koebe.geometries.euclidean2 import PointE2\n",
    "from ipycanvas import Canvas, hold_canvas\n",
    "\n",
    "canvas4 = Canvas(size=(300, 300))\n",
    "point = PointE2(-10, -10)\n",
    "\n",
    "def draw():\n",
    "    global canvas4, point\n",
    "    with hold_canvas(canvas4):\n",
    "        canvas4.clear()\n",
    "        canvas4.fill_style = 'red'\n",
    "        canvas4.fill_rect(point.x - 8, point.y - 8, 16)\n",
    "\n",
    "def handle_mouse_move(x, y):\n",
    "    global point\n",
    "    point = PointE2(x, y)\n",
    "    draw()\n",
    "\n",
    "canvas4.on_mouse_move(handle_mouse_move)\n",
    "\n",
    "draw() # Draw it to start off\n",
    "canvas4"
   ]
  },
  {
   "cell_type": "markdown",
   "metadata": {},
   "source": [
    "# An editable point set. \n",
    "\n",
    "The code below creates an editable point set. Make sure you understand this code, because you are going to modify it. "
   ]
  },
  {
   "cell_type": "code",
   "execution_count": 44,
   "metadata": {},
   "outputs": [
    {
     "data": {
      "application/vnd.jupyter.widget-view+json": {
       "model_id": "843944e088e648f4a06a62976fd0f9f4",
       "version_major": 2,
       "version_minor": 0
      },
      "text/plain": [
       "Canvas(layout=Layout(height='600px', width='600px'), size=(600, 600))"
      ]
     },
     "metadata": {},
     "output_type": "display_data"
    }
   ],
   "source": [
    "from koebe.geometries.euclidean2 import PointE2\n",
    "from ipycanvas import Canvas, hold_canvas\n",
    "\n",
    "canvas5 = Canvas(size=(600,600))\n",
    "points = [PointE2(100, 200), PointE2(200, 200), \n",
    "          PointE2(200, 300), PointE2(200, 400), \n",
    "          PointE2(300, 200), PointE2(300, 300), \n",
    "          PointE2(300, 400), PointE2(400, 400), \n",
    "          PointE2(500, 100)]\n",
    "selectedPointIdx = -1\n",
    "\n",
    "def draw():\n",
    "    global canvas5, points, selectedPointIdx\n",
    "    with hold_canvas(canvas5):\n",
    "        canvas5.clear()\n",
    "        canvas5.fill_style = 'blue'\n",
    "        canvas5.fill_rects([int(p.x) - 4 for p in points], \n",
    "                           [int(p.y) - 4 for p in points], \n",
    "                           8)\n",
    "        if selectedPointIdx != -1:\n",
    "            canvas5.fill_style = 'red'\n",
    "            canvas5.fill_rect(int(points[selectedPointIdx].x) - 4, \n",
    "                              int(points[selectedPointIdx].y) - 4, \n",
    "                              8)\n",
    "\n",
    "def handle_mouse_down(x, y):\n",
    "    global points, selectedPointIdx\n",
    "    # See if any point is close to x, y\n",
    "    cursorPoint = PointE2(x, y)\n",
    "    sqDists = [p.distSqTo(cursorPoint) for p in points]\n",
    "    minIdx = sqDists.index(min(sqDists))\n",
    "    if sqDists[minIdx] < 24:\n",
    "        selectedPointIdx = minIdx\n",
    "    draw()\n",
    "\n",
    "def handle_mouse_up(x, y):\n",
    "    global selectedPointIdx\n",
    "    selectedPointIdx = -1 # No point is selected anymore.\n",
    "    draw()\n",
    "    \n",
    "def handle_mouse_move(x, y):\n",
    "    global points, selectedPointIdx\n",
    "    if selectedPointIdx >= 0:\n",
    "        points[selectedPointIdx] = PointE2(x, y)\n",
    "    draw()\n",
    "\n",
    "canvas5.on_mouse_down(handle_mouse_down)\n",
    "canvas5.on_mouse_up(handle_mouse_up)\n",
    "canvas5.on_mouse_move(handle_mouse_move)\n",
    "draw()\n",
    "canvas5"
   ]
  },
  {
   "cell_type": "markdown",
   "metadata": {},
   "source": [
    "A polygon in `koebe.py` is stored using the `PolygonE2` class. The constructor takes a list of `PointE2` objects representing the vertices of the polygon. Here's an example: "
   ]
  },
  {
   "cell_type": "code",
   "execution_count": 42,
   "metadata": {},
   "outputs": [],
   "source": [
    "from koebe.geometries.euclidean2 import PolygonE2, PointE2\n",
    "\n",
    "poly = PolygonE2([PointE2(115, 54), PointE2(227, 172), \n",
    "          PointE2(238, 343), PointE2(280, 183), \n",
    "          PointE2(402, 54), PointE2(264, 121)])"
   ]
  },
  {
   "cell_type": "markdown",
   "metadata": {},
   "source": [
    "# Your task:\n",
    "\n",
    "1. Copy the editable point set canvas5 from the code block above to a code block below to begin working. \n",
    "2. Modify the code so that it edits the polygon object `poly` instead of the `points` list. \n",
    "3. Add code to the `draw()` method to draw the polygon (i.e. connect the dots--see the ipycanvas documentation, especially the \"drawing shapes\" section). \n",
    "4. Write a function called `findEar` that takes as input a `PolygonE2` object and returns the index `i` of an ear $p_{i-1}$, $p_i$, $p_{i+1}$.\n",
    "5. Write a function called `vanGogh` that takes as input a `PolygonE2` object and an index `i` and returns a `PolygonE2` object that is the input polygon with the ear at index `i` removed. You may assume that the input is valid. \n",
    "6. Write a function called `triangulate` that takes as input a `PolygonE2` object and returns a list of `SegmentE2` objects representing the diagonals of a triangulation of the input polygon (hint: use your `findEar` and `vanGogh` methods). \n",
    "7. Modify your drawing code so that it shows the triangulation. "
   ]
  },
  {
   "cell_type": "code",
   "execution_count": null,
   "metadata": {},
   "outputs": [],
   "source": []
  }
 ],
 "metadata": {
  "kernelspec": {
   "display_name": "Python 3",
   "language": "python",
   "name": "python3"
  },
  "language_info": {
   "codemirror_mode": {
    "name": "ipython",
    "version": 3
   },
   "file_extension": ".py",
   "mimetype": "text/x-python",
   "name": "python",
   "nbconvert_exporter": "python",
   "pygments_lexer": "ipython3",
   "version": "3.7.3"
  }
 },
 "nbformat": 4,
 "nbformat_minor": 2
}
