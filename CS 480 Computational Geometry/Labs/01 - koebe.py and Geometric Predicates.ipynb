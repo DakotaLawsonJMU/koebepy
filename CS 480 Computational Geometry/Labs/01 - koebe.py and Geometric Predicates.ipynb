{
 "cells": [
  {
   "cell_type": "markdown",
   "metadata": {},
   "source": [
    "# Python / Jupyter, koebe.py, and Geometric Predicates\n",
    "\n",
    "The purpose of this lab is to introduce you to the python programming language, Jupyter notebooks, and the basics of geometric pred"
   ]
  },
  {
   "cell_type": "markdown",
   "metadata": {},
   "source": [
    "# A Crash Course in Python Programming\n",
    "\n",
    "In this course we are going to use the Python programming language (version 3.6). The choice is somewhat arbitrary, but Python is a highly expressive language (meaning that we can accomplish complex coding tasks without a lot of code), is an industry standard (it is the 3rd most popular language on the TIOBE index as of Dec. 2019), and Python is the default kernel for Jupyter notebooks (the programming environment you are using now) which allows for the creation of highly interactive tutorials like this one. \n",
    "\n",
    "Another reason we are using Python is that I have spent some time coding the geometry library koebe.py that we are using in this course (and you will likely add to). Later on in this lab we'll look at some of the basics of the koebe.py library.\n",
    "\n",
    "In a notebook-style programming interface, such as this one, cells of text are intersprersed with cells of code. The backend maintains a running _kernel_ which executes the code similar to a REPL (read-evaluate-print loop). To execute a cell click on it and press SHIFT+Enter. Try this now on the cell below:"
   ]
  },
  {
   "cell_type": "code",
   "execution_count": 2,
   "metadata": {},
   "outputs": [
    {
     "name": "stdout",
     "output_type": "stream",
     "text": [
      "Hello world.\n"
     ]
    }
   ],
   "source": [
    "print(\"Hello world.\")"
   ]
  },
  {
   "cell_type": "markdown",
   "metadata": {},
   "source": [
    "Notice how it printed \"Hello world\" to an Out block. You can always re-run a cell by clicking on it and typing SHIFT+Enter again. \n",
    "\n",
    "Python is dynamically typed, so to create variables you just initialize them. The following code creates three variables, x, y, and z, initializes x to 5, y to 7, and z to x + y. It then prints the result. Click on the cell and execute it. "
   ]
  },
  {
   "cell_type": "code",
   "execution_count": null,
   "metadata": {},
   "outputs": [],
   "source": [
    "x = 5\n",
    "y = 7\n",
    "z = x + y\n",
    "print(z)"
   ]
  },
  {
   "cell_type": "markdown",
   "metadata": {},
   "source": [
    "Lists are an important data structure for python programming. They are similar to arrays in Java, but they have variable length (in other words, they are really lists, not arrays). You can create a list just by initializing a variable to the empty list. Execute the following cell. "
   ]
  },
  {
   "cell_type": "code",
   "execution_count": null,
   "metadata": {},
   "outputs": [],
   "source": [
    "myList = []"
   ]
  },
  {
   "cell_type": "markdown",
   "metadata": {},
   "source": [
    "We can add to a list by calling the append function. Lists are heterogeneous, meaning they can store a mix of different types of data (another way they differ from arrays). Elements of a list can be accessed using the typical bracket notation starting from index 0. Execute the following cell, which appends three items to a list and prints out the second item. We then print out the length of the string using the `len` function. "
   ]
  },
  {
   "cell_type": "code",
   "execution_count": null,
   "metadata": {},
   "outputs": [],
   "source": [
    "myList.append(5)\n",
    "myList.append(\"This is a string\")\n",
    "myList.append(4.2)\n",
    "print(\"The second item in the list is: \" + myList[1])\n",
    "print(\"The length fo the string is: \"+ str(len(myList[1])))"
   ]
  },
  {
   "cell_type": "markdown",
   "metadata": {},
   "source": [
    "## Code Blocks\n",
    "\n",
    "Code blocks in Python are not surrounded by curly braces ('{' and '}') like they are in C-derived languages like Java. Instead, all code in a block is tabbed over one tab from the enclosing block. For example, here is a while loop that prints out the numbers 1 through 10. "
   ]
  },
  {
   "cell_type": "code",
   "execution_count": null,
   "metadata": {},
   "outputs": [],
   "source": [
    "i = 1\n",
    "while i <= 10: \n",
    "    print(i)\n",
    "    i += 1"
   ]
  },
  {
   "cell_type": "markdown",
   "metadata": {},
   "source": [
    "The same thing goes for `if/elif/else` statements. Here's an example of a basic `if` statement. Notice how we don't need to surround the condition with parenthesis, but we do need to end it in a ':'. So `if (test) { ...` in Java becomes `if test: ...` in Python. Execute the following cell. "
   ]
  },
  {
   "cell_type": "code",
   "execution_count": null,
   "metadata": {},
   "outputs": [],
   "source": [
    "x = 5\n",
    "if x == 2:\n",
    "    print(\"x is 2\")\n",
    "elif x == 5: \n",
    "    print(\"elif is the else if of Python, weird, right?\")\n",
    "else:\n",
    "    print(\"hit the else\")"
   ]
  },
  {
   "cell_type": "markdown",
   "metadata": {},
   "source": [
    "Python also has `for` loops but they are always loops over some iterable object (this is called the \"enhanced for loop\" in Java). One of the main ways of using a `for` loop is to iterate over the items in a list. For example, execute the following cell. "
   ]
  },
  {
   "cell_type": "code",
   "execution_count": null,
   "metadata": {},
   "outputs": [],
   "source": [
    "someWords = [\"this\", \"is\", \"a\", \"list\", \"of\", \"some\", \"words\"]\n",
    "for word in someWords:\n",
    "    print(word.upper()) # Notice that we're converting to upper case!"
   ]
  },
  {
   "cell_type": "markdown",
   "metadata": {},
   "source": [
    "You can also use the `range(i, j)` object to iterate over a range from `i` (inclusive) to `j` exclusive. This is similar to a \"normal\" for loop in a C-like language. For example, the following loop in Java has been rewritten in the code cell below (go ahead and execute it). \n",
    "\n",
    "```\n",
    "for (int i = 5; i < 12; i++) {\n",
    "    System.out.println(i);\n",
    "}\n",
    "```"
   ]
  },
  {
   "cell_type": "code",
   "execution_count": null,
   "metadata": {},
   "outputs": [],
   "source": [
    "for i in range(5, 12):\n",
    "    print(i)"
   ]
  },
  {
   "cell_type": "markdown",
   "metadata": {},
   "source": [
    "## Functions\n",
    "\n",
    "Functions are defined using the `def` keyword followed by the function name, followed by a comma separated list of formal parameters surrounded by parentheses. As in Java, the `return` keyword specifies a return value. For example, the following function adds two numbers together. "
   ]
  },
  {
   "cell_type": "code",
   "execution_count": null,
   "metadata": {},
   "outputs": [],
   "source": [
    "def add(x, y):\n",
    "    return x + y\n",
    "\n",
    "print(add(3, 4))\n",
    "print(add(7, 12))\n",
    "print(add(\"If we have a string, \", \"then + is the concatenate operation!\")) # duck typing is cool!"
   ]
  },
  {
   "cell_type": "markdown",
   "metadata": {},
   "source": [
    "## Classes\n",
    "\n",
    "Classes are defined using the `class` keyword. Unlike Java, the constructor is not named after the class; instead it is always named `__init__` (with two underscores before and after the 'init'). Member data in the class is always accessed using `self` which takes the place of `this` in Java. One weird thing about Python is that, unlike Java, every method of a class must explicitly take `self` as the first parameter. This is a bit odd to get used to at first, but notice that Java is actually doing this implicitly (think about it). \n",
    "\n",
    "Consider the following simple Java class. \n",
    "\n",
    "```\n",
    "class A {\n",
    "    public A(String str1, String str2) {\n",
    "        this.str1 = str1;\n",
    "        this.str2 = str2;\n",
    "    }\n",
    "    public String getConcatString() {\n",
    "        return this.str1 + this.str2;\n",
    "    }\n",
    "}\n",
    "```\n",
    "\n",
    "In Java to create a new object of type A, we say `new A(\"some\", \"strings\")`. In Python, we don't need the `new` keyword. Python is smart enough to recognize that a call to a constructor is creating a new object, so there's no reason to require the use of the word new. The following cell defines the same class as the Java example above, then creates an object of type `A` called `anA`, and finally prints the result of a call to `getConcatString()`. Execute the cell. "
   ]
  },
  {
   "cell_type": "code",
   "execution_count": null,
   "metadata": {},
   "outputs": [],
   "source": [
    "class A:\n",
    "    def __init__(self, str1, str2):\n",
    "        self.str1 = str1\n",
    "        self.str2 = str2\n",
    "    def getConcatString(self): # Notice how we have to pass it self. Yes it's weird. Just do it.\n",
    "        return self.str1 + self.str2\n",
    "\n",
    "anA = A(\"This is the first parameter.\", \" This is the second parameter.\")\n",
    "print(anA.getConcatString()) # Notice you don't pass getConcatString anything for self. It takes that from the object before the '.'"
   ]
  },
  {
   "cell_type": "markdown",
   "metadata": {},
   "source": [
    "# An overview of koebe.py"
   ]
  },
  {
   "cell_type": "code",
   "execution_count": null,
   "metadata": {},
   "outputs": [],
   "source": []
  }
 ],
 "metadata": {
  "kernelspec": {
   "display_name": "Python 3",
   "language": "python",
   "name": "python3"
  },
  "language_info": {
   "codemirror_mode": {
    "name": "ipython",
    "version": 3
   },
   "file_extension": ".py",
   "mimetype": "text/x-python",
   "name": "python",
   "nbconvert_exporter": "python",
   "pygments_lexer": "ipython3",
   "version": "3.7.3"
  }
 },
 "nbformat": 4,
 "nbformat_minor": 2
}
