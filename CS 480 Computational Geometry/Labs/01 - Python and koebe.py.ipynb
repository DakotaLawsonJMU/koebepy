{
 "cells": [
  {
   "cell_type": "markdown",
   "metadata": {},
   "source": [
    "# Python / Jupyter, koebe.py, and Geometric Predicates\n",
    "\n",
    "## John C. Bowers\n",
    "\n",
    "The purpose of this lab is to introduce you to the python programming language, Jupyter notebooks, and the basics of the koebe.py library. "
   ]
  },
  {
   "cell_type": "markdown",
   "metadata": {},
   "source": [
    "# A Crash Course in Python Programming\n",
    "\n",
    "In this course we are going to use the Python programming language (version 3.6). The choice is somewhat arbitrary, but Python is a highly expressive language (meaning that we can accomplish complex coding tasks without a lot of code), is an industry standard (it is the 3rd most popular language on the TIOBE index as of Dec. 2019), and Python is the default kernel for Jupyter notebooks (the programming environment you are using now) which allows for the creation of highly interactive tutorials like this one. \n",
    "\n",
    "Another reason we are using Python is that I have spent some time coding the geometry library koebe.py that we are using in this course (and you will likely add to). Later on in this lab we'll look at some of the basics of the koebe.py library.\n",
    "\n",
    "In a notebook-style programming interface, such as this one, cells of text are intersprersed with cells of code. The backend maintains a running _kernel_ which executes the code similar to a REPL (read-evaluate-print loop). To execute a cell click on it and press SHIFT+Enter. Try this now on the cell below:"
   ]
  },
  {
   "cell_type": "code",
   "execution_count": null,
   "metadata": {},
   "outputs": [],
   "source": [
    "print(\"Hello world.\")\n",
    "%autosave 0"
   ]
  },
  {
   "cell_type": "markdown",
   "metadata": {},
   "source": [
    "Notice how it printed \"Hello world\" to an Out block. You can always re-run a cell by clicking on it and typing SHIFT+Enter again. \n",
    "\n",
    "Python is dynamically typed, so to create variables you just initialize them. The following code creates three variables, x, y, and z, initializes x to 5, y to 7, and z to x + y. It then prints the result. Click on the cell and execute it. "
   ]
  },
  {
   "cell_type": "code",
   "execution_count": null,
   "metadata": {},
   "outputs": [],
   "source": [
    "x = 5\n",
    "y = 7\n",
    "z = x + y\n",
    "print(z)"
   ]
  },
  {
   "cell_type": "markdown",
   "metadata": {},
   "source": [
    "Lists are an important data structure for python programming. They are similar to arrays in Java, but they have variable length (in other words, they are really lists, not arrays). You can create a list just by initializing a variable to the empty list. Execute the following cell. "
   ]
  },
  {
   "cell_type": "code",
   "execution_count": null,
   "metadata": {},
   "outputs": [],
   "source": [
    "myList = []"
   ]
  },
  {
   "cell_type": "markdown",
   "metadata": {},
   "source": [
    "We can add to a list by calling the append function. Lists are heterogeneous, meaning they can store a mix of different types of data (another way they differ from arrays). Elements of a list can be accessed using the typical bracket notation starting from index 0. Execute the following cell, which appends three items to a list and prints out the second item. We then print out the length of the string using the `len` function. "
   ]
  },
  {
   "cell_type": "code",
   "execution_count": null,
   "metadata": {},
   "outputs": [],
   "source": [
    "myList.append(5)\n",
    "myList.append(\"This is a string\")\n",
    "myList.append(4.2)\n",
    "print(\"The second item in the list is: \" + myList[1])\n",
    "print(\"The length fo the string is: \"+ str(len(myList[1])))"
   ]
  },
  {
   "cell_type": "markdown",
   "metadata": {},
   "source": [
    "## Code Blocks\n",
    "\n",
    "Code blocks in Python are not surrounded by curly braces ('{' and '}') like they are in C-derived languages like Java. Instead, all code in a block is tabbed over one tab from the enclosing block. For example, here is a while loop that prints out the numbers 1 through 10. "
   ]
  },
  {
   "cell_type": "code",
   "execution_count": null,
   "metadata": {},
   "outputs": [],
   "source": [
    "i = 1\n",
    "while i <= 10: \n",
    "    print(i)\n",
    "    i += 1"
   ]
  },
  {
   "cell_type": "markdown",
   "metadata": {},
   "source": [
    "The same thing goes for `if/elif/else` statements. Here's an example of a basic `if` statement. Notice how we don't need to surround the condition with parenthesis, but we do need to end it in a ':'. So `if (test) { ...` in Java becomes `if test: ...` in Python. Execute the following cell. "
   ]
  },
  {
   "cell_type": "code",
   "execution_count": null,
   "metadata": {},
   "outputs": [],
   "source": [
    "x = 5\n",
    "if x == 2:\n",
    "    print(\"x is 2\")\n",
    "elif x == 5: \n",
    "    print(\"elif is the else if of Python, weird, right?\")\n",
    "else:\n",
    "    print(\"hit the else\")"
   ]
  },
  {
   "cell_type": "markdown",
   "metadata": {},
   "source": [
    "Python also has `for` loops but they are always loops over some iterable object (this is called the \"enhanced for loop\" in Java). One of the main ways of using a `for` loop is to iterate over the items in a list. For example, execute the following cell. "
   ]
  },
  {
   "cell_type": "code",
   "execution_count": null,
   "metadata": {},
   "outputs": [],
   "source": [
    "someWords = [\"this\", \"is\", \"a\", \"list\", \"of\", \"some\", \"words\"]\n",
    "for word in someWords:\n",
    "    print(word.upper()) # Notice that we're converting to upper case!"
   ]
  },
  {
   "cell_type": "markdown",
   "metadata": {},
   "source": [
    "You can also use the `range(i, j)` object to iterate over a range from `i` (inclusive) to `j` exclusive. This is similar to a \"normal\" for loop in a C-like language. For example, the following loop in Java has been rewritten in the code cell below (go ahead and execute it). \n",
    "\n",
    "```\n",
    "for (int i = 5; i < 12; i++) {\n",
    "    System.out.println(i);\n",
    "}\n",
    "```"
   ]
  },
  {
   "cell_type": "code",
   "execution_count": null,
   "metadata": {},
   "outputs": [],
   "source": [
    "for i in range(5, 12):\n",
    "    print(i)"
   ]
  },
  {
   "cell_type": "markdown",
   "metadata": {},
   "source": [
    "## Functions\n",
    "\n",
    "Functions are defined using the `def` keyword followed by the function name, followed by a comma separated list of formal parameters surrounded by parentheses. As in Java, the `return` keyword specifies a return value. For example, the following function adds two numbers together. "
   ]
  },
  {
   "cell_type": "code",
   "execution_count": null,
   "metadata": {},
   "outputs": [],
   "source": [
    "def add(x, y):\n",
    "    return x + y\n",
    "\n",
    "print(add(3, 4))\n",
    "print(add(7, 12))\n",
    "print(add(\"If we have a string, \", \"then + is the concatenate operation!\")) # duck typing is cool!"
   ]
  },
  {
   "cell_type": "markdown",
   "metadata": {},
   "source": [
    "## Classes\n",
    "\n",
    "Classes are defined using the `class` keyword. Unlike Java, the constructor is not named after the class; instead it is always named `__init__` (with two underscores before and after the 'init'). Member data in the class is always accessed using `self` which takes the place of `this` in Java. One weird thing about Python is that, unlike Java, every method of a class must explicitly take `self` as the first parameter. This is a bit odd to get used to at first, but notice that Java is actually doing this implicitly (think about it). \n",
    "\n",
    "Consider the following simple Java class. \n",
    "\n",
    "```\n",
    "class A {\n",
    "    public A(String str1, String str2) {\n",
    "        this.str1 = str1;\n",
    "        this.str2 = str2;\n",
    "    }\n",
    "    public String getConcatString() {\n",
    "        return this.str1 + this.str2;\n",
    "    }\n",
    "}\n",
    "```\n",
    "\n",
    "In Java to create a new object of type A, we say `new A(\"some\", \"strings\")`. In Python, we don't need the `new` keyword. Python is smart enough to recognize that a call to a constructor is creating a new object, so there's no reason to require the use of the word new. The following cell defines the same class as the Java example above, then creates an object of type `A` called `anA`, and finally prints the result of a call to `getConcatString()`. Execute the cell. "
   ]
  },
  {
   "cell_type": "code",
   "execution_count": null,
   "metadata": {},
   "outputs": [],
   "source": [
    "class A:\n",
    "    def __init__(self, str1, str2):\n",
    "        self.str1 = str1\n",
    "        self.str2 = str2\n",
    "    def getConcatString(self): # Notice how we have to pass it self. Yes it's weird. Just do it.\n",
    "        return self.str1 + self.str2\n",
    "\n",
    "anA = A(\"This is the first parameter.\", \" This is the second parameter.\")\n",
    "print(anA.getConcatString()) # Notice you don't pass getConcatString anything for self. It takes that from the object before the '.'"
   ]
  },
  {
   "cell_type": "markdown",
   "metadata": {},
   "source": [
    "# An overview of koebe.py\n",
    "\n",
    "`koebe.py` is an in-development python library for storing and manipulating geometric objects. Its design is based on the book _Introduction to Geometric Computing_ by Sherif Ghali. It started life in 2018 as a Kotlin library designed to support researchers working in inversive geometry (the geometry of circles on the sphere, we'll touch on this in the last part of this class). In the summer of 2019 I switched it to Python 3 because (1) most mathematicians do not know Kotlin but some know Python and (2) I wanted to leverage the Jupyter notebook interface as a method of creating reproducible computational research. \n",
    "\n",
    "Because it is so new and I've pretty much worked on it alone its documentation is essentially non-existent. I'm going to briefly outline the design of the library here, because we'll be using it (and hopefully improving it) throughout this course.\n",
    "\n",
    "The main module is the `koebe` module. In order to import the `koebe` module from this notebook, we need to add the `koebe.py` root folder to our Jupyter notebook's library path. The following code will accomplish this (you can also use a little bit of shell hacking to add the path to your `PYTHONPATH` environment variable, but that's for you to figure out :-D). Run the following code to add the root folder of `koebe.py` to your running Jupyter kernel. Note that you will need to rerun this before Python is able to import `koebe` anytime you restart the kernel (normally this should be placed in the first block of your code).  "
   ]
  },
  {
   "cell_type": "code",
   "execution_count": null,
   "metadata": {},
   "outputs": [],
   "source": [
    "from pathlib import Path \n",
    "import sys, os\n",
    "path = Path(os.path.dirname(os.path.abspath('')))\n",
    "if path not in sys.path:\n",
    "    sys.path.append(os.path.join(path))"
   ]
  },
  {
   "cell_type": "markdown",
   "metadata": {},
   "source": [
    "Now, let's test that this worked correctly by importing the koebe module. Execute the code block below."
   ]
  },
  {
   "cell_type": "code",
   "execution_count": 23,
   "metadata": {},
   "outputs": [],
   "source": [
    "import koebe"
   ]
  },
  {
   "cell_type": "markdown",
   "metadata": {},
   "source": [
    "If you did not get an error above, then you should be good to go. \n",
    "\n",
    "The `koebe.py` library has four submodules: \n",
    "\n",
    "* `algorithms`: Contains computational geometry algorithms including some of those we will study in this class. \n",
    "* `datastructures`: Contains data structures for storing geometric and topological objects. Currently it includes only the doubly-connected edge list (DCEL) structure, which you will learn about in this class. \n",
    "* `geometries`: Contains classes for representing basic geometric objects in a variety of geometries, including 2D and 3D euclidean geometry and spherical geometry. \n",
    "* `graphics`: Contains classes for drawing geometric objects inside a Jupyter notebook. \n",
    "\n",
    "The `koebe.geometries` module is organized around particular geometries. For example, the `euclidean2.py` file contains objects from 2D Euclidean geometry. The naming convention used throughout the library is to name geometric objects first by their standard name, like \"Point\" and then by an abbreviation of which geometry they appear in, like \"E2\" for 2D Euclidean. So, for example, a point in 2D Euclidean space is named `PointE2` and a line segment in 2D Euclidean space is named `SegmentE2`. "
   ]
  },
  {
   "cell_type": "code",
   "execution_count": 24,
   "metadata": {},
   "outputs": [
    {
     "name": "stdout",
     "output_type": "stream",
     "text": [
      "['x', 'y']\n"
     ]
    }
   ],
   "source": [
    "from koebe.geometries.euclidean2 import PointE2, SegmentE2, CircleE2, PolygonE2\n",
    "\n",
    "# Each class reprenting a geometric object type has a list called __slots__ that \n",
    "# details what attributes the object stores. These are also the attributes that\n",
    "# must be supplied to the constructor. For example, the following prints out the\n",
    "# slots for the PointE2 class.\n",
    "\n",
    "print(PointE2.__slots__)"
   ]
  },
  {
   "cell_type": "code",
   "execution_count": 25,
   "metadata": {},
   "outputs": [
    {
     "name": "stdout",
     "output_type": "stream",
     "text": [
      "{'x': typing.Any, 'y': typing.Any}\n"
     ]
    }
   ],
   "source": [
    "# The attributes sometimes have type annotations attached to them to tell you what\n",
    "# type of object are expected. You can access this via the __annotations__ attribute\n",
    "# for the class, for example: \n",
    "\n",
    "print(PointE2.__annotations__)"
   ]
  },
  {
   "cell_type": "code",
   "execution_count": 26,
   "metadata": {},
   "outputs": [
    {
     "name": "stdout",
     "output_type": "stream",
     "text": [
      "['center', 'radius']\n",
      "{'center': <class 'koebe.geometries.euclidean2.PointE2'>, 'radius': typing.Any}\n"
     ]
    }
   ],
   "source": [
    "# Notice that both 'x' and 'y' allow Any type, which is a catchall. This is to allow \n",
    "# Points to be created that use floating point numbers OR symbols for symbolic \n",
    "# computation. More on this later. Let's look at the attributes and types for the\n",
    "# CircleE2 class.\n",
    "\n",
    "print(CircleE2.__slots__)\n",
    "print(CircleE2.__annotations__)"
   ]
  },
  {
   "cell_type": "code",
   "execution_count": 27,
   "metadata": {},
   "outputs": [],
   "source": [
    "# Notice above that a circle expects to have a center, which is a PointE2 object, \n",
    "# and a radius, which like the x and y coordinates for a PointE2 can be any type. "
   ]
  },
  {
   "cell_type": "code",
   "execution_count": 28,
   "metadata": {},
   "outputs": [
    {
     "name": "stdout",
     "output_type": "stream",
     "text": [
      "PointE2 cocumentation: \n",
      "2D Euclidean Point\n",
      "    \n",
      "    This class represents a 2D point and has several operators overloaded. \n",
      "    Let p and q be PointE2 objects and v be a VectorE2 object. \n",
      "    \n",
      "    Then p - q gives the vector from q to p and p + v gives the point obtained\n",
      "    by moving p along the vector v. \n",
      "    \n",
      "    PointE2s can also compute their distances (and squared distances) to other \n",
      "    PointE2s. \n",
      "    \n",
      "    Attributes:\n",
      "        x: The x-coordinate of the point.\n",
      "        y: The y-coordinate of the point.\n",
      "    \n",
      "\n",
      "PointE2::distSqTo documentation: \n",
      "Returns the squared distance from this point to a PointE2 p. \n",
      "        \n",
      "        Args: \n",
      "            p: The PointE2 to compute the squared distance to. \n",
      "        \n",
      "        Returns:\n",
      "            The squared distance from this to p. \n",
      "        \n"
     ]
    }
   ],
   "source": [
    "# Another useful feature of python in an interactive environment is the ability to \n",
    "# access the documentation directly programmatically using the __doc__ attribute. \n",
    "# This works on classes, functions, and methods. For example, the code below first \n",
    "# prints out the documentation for the PointE2 class and then for the distSqTo method.\n",
    "\n",
    "print(\"PointE2 cocumentation: \")\n",
    "print(PointE2.__doc__)\n",
    "\n",
    "print(\"\\nPointE2::distSqTo documentation: \")\n",
    "print(PointE2.distSqTo.__doc__)"
   ]
  },
  {
   "cell_type": "code",
   "execution_count": 29,
   "metadata": {},
   "outputs": [
    {
     "name": "stdout",
     "output_type": "stream",
     "text": [
      "['O', '__add__', '__annotations__', '__class__', '__dataclass_fields__', '__dataclass_params__', '__delattr__', '__dir__', '__doc__', '__eq__', '__format__', '__ge__', '__getattribute__', '__gt__', '__hash__', '__init__', '__init_subclass__', '__iter__', '__le__', '__lt__', '__module__', '__ne__', '__new__', '__reduce__', '__reduce_ex__', '__repr__', '__setattr__', '__sizeof__', '__slots__', '__str__', '__sub__', '__subclasshook__', 'distSqTo', 'distTo', 'x', 'y']\n"
     ]
    }
   ],
   "source": [
    "# You can also get a list of what attributes and methods an object responds to \n",
    "# using the dir() function. For example: \n",
    "\n",
    "# Think of the __name__ objects as built-in attributes / methods and look for what \n",
    "# does not have the double underscores to get a sense of what the object can do. \n",
    "\n",
    "p = PointE2(2, 3)\n",
    "print(dir(p))"
   ]
  },
  {
   "cell_type": "code",
   "execution_count": 30,
   "metadata": {},
   "outputs": [
    {
     "name": "stdout",
     "output_type": "stream",
     "text": [
      "<class 'koebe.geometries.euclidean2.PointE2'>\n",
      "<class 'method'>\n",
      "<class 'method'>\n",
      "<class 'int'>\n",
      "<class 'int'>\n"
     ]
    }
   ],
   "source": [
    "# Notice from the list above that we see an 'O' as well as 'distSqTo', 'distTo', \n",
    "# 'x', and 'y'. Let's find out what these are using the type() function\n",
    "\n",
    "print(type(p.O))\n",
    "print(type(p.distSqTo))\n",
    "print(type(p.distTo))\n",
    "print(type(p.x))\n",
    "print(type(p.y))"
   ]
  },
  {
   "cell_type": "code",
   "execution_count": 31,
   "metadata": {},
   "outputs": [
    {
     "name": "stdout",
     "output_type": "stream",
     "text": [
      "PointE2(x=0.0, y=0.0)\n"
     ]
    }
   ],
   "source": [
    "# So O is an object, distSqTo and distTo are methods, and x and y are ints. \n",
    "# In fact O is actually a class level object (static object) representing the origin\n",
    "# so you don't have to construct it. \n",
    "\n",
    "print(PointE2.O)"
   ]
  },
  {
   "cell_type": "markdown",
   "metadata": {},
   "source": [
    "# A simple construction\n",
    "\n",
    "Let's create a simple construction to showcase using `koebe.py` to show some graphics. \n",
    "\n",
    "First run the following code to create three points and three line segments. "
   ]
  },
  {
   "cell_type": "code",
   "execution_count": 32,
   "metadata": {},
   "outputs": [],
   "source": [
    "# Create three points:\n",
    "p1 = PointE2.O\n",
    "p2 = PointE2(100, 0)\n",
    "p3 = PointE2(0, 100)\n",
    "\n",
    "# Create three line segments:\n",
    "s1 = SegmentE2(p1, p2)\n",
    "s2 = SegmentE2(p2, p3)\n",
    "s3 = SegmentE2(p3, p1)"
   ]
  },
  {
   "cell_type": "markdown",
   "metadata": {},
   "source": [
    "Graphics in `koebe.py` are currently very simple. In order to show something to the screen, we need to create a `Viewer` object, which uses a Javascript library called `p5.js` to draw dynamic graphics content in the browser. There are three implemented so far, `E2Viewer` for viewing 2D Euclidean objects (in `koebe.graphics.euclidean2viewer`), `E3Viewer` for viewing 3D Euclidean objects (in `koebe.graphics.euclidean3viewer`), and `S2Viewer` for viewing objects on the 2D unit sphere (in `koebe.graphics.spherical2viewer`). \n",
    "\n",
    "Objects can be added to the viewer one at a time using the `add` method or a list of objects can be added using the `addAll` method. Here's an example of setting up a viewer for our points and line segments above. \n",
    "\n",
    "To show the viewer, call the `show()` method."
   ]
  },
  {
   "cell_type": "code",
   "execution_count": 33,
   "metadata": {},
   "outputs": [
    {
     "data": {
      "application/javascript": [
       "/* \n",
       " * JavaScript to interact with p5viewer.py for viewing constructions in \n",
       " * Jupyter\n",
       " * Based on example: https://hub.gke.mybinder.org/user/jtpio-p5-jupyter-notebook-z9kpfjdk/notebooks/puzzle.ipynb\n",
       " * @author John C. Bowers\n",
       " */ \n",
       "\n",
       "\n",
       "/*** LIBRARIES ***/\n",
       "require.config({\n",
       "    paths: {\n",
       "        'p5': 'https://cdnjs.cloudflare.com/ajax/libs/p5.js/0.9.0/p5.min',\n",
       "        'lodash': 'https://cdnjs.cloudflare.com/ajax/libs/lodash.js/4.17.4/lodash.min'\n",
       "    }\n",
       "});\n",
       "\n",
       "/*** HELPER FUNCTIONS ***/\n",
       "\n",
       "window.defineModule = function (name, dependencies, module) {\n",
       "    // force the recreation of the module\n",
       "    // (when re-executing a cell)\n",
       "    require.undef(name);\n",
       "    \n",
       "    define(name, dependencies, module);\n",
       "};\n",
       "\n",
       "window.createSketchView = function (name, dependencies, module) {\n",
       "    \n",
       "    require.undef(name);\n",
       "    \n",
       "    define(name,\n",
       "           ['@jupyter-widgets/base', 'p5', 'lodash'].concat(dependencies),\n",
       "           (widgets, p5, _, ...deps) => {\n",
       "\n",
       "        let viewName = `${name}View`;\n",
       "        \n",
       "        let View = widgets.DOMWidgetView.extend({\n",
       "            initialize: function () {\n",
       "                this.el.setAttribute('style', 'text-align: center;');\n",
       "            },\n",
       "\n",
       "            render: function () {\n",
       "                // pass the model as the last dependency so it can\n",
       "                // be accessed in the sketch\n",
       "                let sketch = module(...deps, this.model);\n",
       "                setTimeout(() => {\n",
       "                    this.sketch = new p5(sketch, this.el);                    \n",
       "                }, 0);\n",
       "            },\n",
       "\n",
       "            remove: function () {\n",
       "                // stop the existing sketch when the view is removed\n",
       "                // so p5.js can cancel the animation frame callback and free up resources\n",
       "                if (this.sketch) {\n",
       "                    this.sketch.remove();\n",
       "                    this.sketch = null;\n",
       "                }\n",
       "            }\n",
       "        });\n",
       "        \n",
       "        return {\n",
       "            [viewName] : View,\n",
       "        };\n",
       "    });\n",
       "}\n",
       "\n",
       "// Test module defining a few constants, for example purposes\n",
       "// Such constants should ideally be defined directly in the model\n",
       "// and directly accessed by the view\n",
       "\n",
       "defineModule('euclidean2Module', [], () => {\n",
       "    const [W, H] = [500, 500];\n",
       "    return {W, H};\n",
       "})\n",
       "\n",
       "let _shown = false;\n",
       "var THE_STYLE = 0;\n",
       "var _DEBUG = false;\n",
       "\n",
       "createSketchView('E2Sketch', ['euclidean2Module'], (Settings, model) => {\n",
       "    return function(p) {\n",
       "        const {W, H} = Settings;\n",
       "        \n",
       "        p.setup = function(){\n",
       "            let w = model.get('width');\n",
       "            let h = model.get('height');\n",
       "            let s = model.get('scale');\n",
       "            p.createCanvas(w, h);\n",
       "            p.zoom = 1.0;\n",
       "            p.canvasScale = s;\n",
       "            p.frame = 0;\n",
       "        }\n",
       "        \n",
       "        p.setStyle = function(style) {\n",
       "            \n",
       "            if (style == null) return;\n",
       "\n",
       "            if (\"stroke\" in style) {\n",
       "                if (style[\"stroke\"] == null) p.noStroke();\n",
       "                else                         p.stroke(style[\"stroke\"]);\n",
       "            }\n",
       "            \n",
       "            if (\"strokeWeight\" in style) {\n",
       "                if (style[\"strokeWeight\"] != null) p.strokeWeight(style[\"strokeWeight\"]*p.canvasScale);\n",
       "            }\n",
       "            \n",
       "            if (\"fill\" in style) {\n",
       "                if (style[\"fill\"] == null) p.noFill();\n",
       "                else                       p.fill(style[\"fill\"]);\n",
       "            }\n",
       "        }\n",
       "        \n",
       "        p.hasStyle = function (objData) {\n",
       "            return \"style\" in objData && objData[\"style\"] != null;\n",
       "        }\n",
       "        \n",
       "        p.drawPointE2 = function (pointData) {\n",
       "            let pt = pointData[\"point\"];\n",
       "            if (!p.hasStyle(pointData)) {\n",
       "                p.noStroke();\n",
       "                p.fill(100, 125, 255);\n",
       "            }\n",
       "            p.circle(pt[0], pt[1], 5 * p.canvasScale);\n",
       "        }\n",
       "        \n",
       "        p.drawPolygonE2 = function(polygonData) {\n",
       "            let polygon = polygonData[\"vertices\"];\n",
       "            p.beginShape();\n",
       "            polygon.forEach(v => {\n",
       "                p.vertex(v[0], v[1]);\n",
       "            });\n",
       "            p.endShape(p.CLOSE);\n",
       "        }\n",
       "        \n",
       "        p.drawPolygons = function (polygonsData) {\n",
       "            let polygons = polygonsData[\"polygons\"];\n",
       "            polygons.forEach(polygon => {\n",
       "                p.beginShape();\n",
       "                polygon.forEach(v => {\n",
       "                    p.vertex(v[0], v[1]);\n",
       "                });\n",
       "                p.endShape();\n",
       "            });\n",
       "        }\n",
       "        \n",
       "        p.drawCircleE2 = function (circleData) {\n",
       "            let center = circleData[\"center\"];\n",
       "            let radius = circleData[\"radius\"];\n",
       "            if (!p.hasStyle(circleData)) {\n",
       "                p.stroke(0,0,0);\n",
       "                p.noFill();\n",
       "            }\n",
       "            p.circle(center[0], center[1], 2*radius);\n",
       "        }\n",
       "        \n",
       "        p.drawSegmentE2 = function (segData) {\n",
       "            let endpoints = segData[\"endpoints\"];\n",
       "            p.line(endpoints[0][0],\n",
       "                   endpoints[0][1],\n",
       "                   endpoints[1][0],\n",
       "                   endpoints[1][1]);\n",
       "        }\n",
       "        \n",
       "        p.drawCircleArcE2 = function (arcData) {\n",
       "            let center = arcData[\"center\"];\n",
       "            let radius = arcData[\"radius\"];\n",
       "            let srcAngle = arcData[\"srcAngle\"];\n",
       "            let targetAngle = arcData[\"targetAngle\"];\n",
       "            let diameter = 2 * radius;\n",
       "            \n",
       "            p.arc(center[0], center[1], diameter, diameter, srcAngle, targetAngle);\n",
       "        }\n",
       "/*\n",
       "\"center\": arc.disk.center.toPointE2(), \n",
       "                      \"radius\": rad,\n",
       "                      \"srcAngle\": srcAngle, \n",
       "                      \"targetAngle\": targetAngle}\n",
       "                      */\n",
       "        p.draw = function () {\n",
       "            \n",
       "            if (model.get('objectsDirty') || p.objs.length > 1) {\n",
       "                model.set('objectsDirty', false);\n",
       "                p.objs = JSON.parse(model.get('objects'));\n",
       "                \n",
       "                \n",
       "                p.scale(1 / p.canvasScale, -1 / p.canvasScale);\n",
       "                p.translate(p.canvasScale * p.width * 0.5, -p.canvasScale * p.height * 0.5);\n",
       "                \n",
       "            \n",
       "                p.background('#fff');\n",
       "\n",
       "                p.objs[p.frame].forEach(obj => {\n",
       "                    p.push();\n",
       "                    if (\"style\" in obj && obj[\"style\"] != null) {\n",
       "                        p.setStyle(obj[\"style\"]);\n",
       "                    }\n",
       "                    \n",
       "                    switch (obj[\"type\"]) {\n",
       "                        case \"PointE2\": p.drawPointE2(obj); break;\n",
       "                        case \"Polygons\": p.drawPolygons(obj); break;\n",
       "                        case \"PolygonE2\": p.drawPolygonE2(obj); break;\n",
       "                        case \"SegmentE2\": p.drawSegmentE2(obj); break;\n",
       "                        case \"CircleE2\": p.drawCircleE2(obj); break;\n",
       "                        case \"CircleArcE2\": p.drawCircleArcE2(obj); break;\n",
       "                        default: console.log(obj[\"type\"] + \" is not drawable in this sketch.\");\n",
       "                    }\n",
       "                    p.pop();\n",
       "                });\n",
       "                if (p.objs.length == 1) {\n",
       "                    p.noLoop();\n",
       "                } else {\n",
       "                    p.frame = (p.frame + 1) % p.objs.length;\n",
       "                }\n",
       "            }\n",
       "            \n",
       "        }\n",
       "        \n",
       "//         p.keyTyped = function () {\n",
       "//           if (key === 'e') {\n",
       "//             photo.save('photo', 'png');\n",
       "//           }\n",
       "//         }\n",
       "    };\n",
       "})"
      ],
      "text/plain": [
       "<IPython.core.display.Javascript object>"
      ]
     },
     "metadata": {},
     "output_type": "display_data"
    },
    {
     "data": {
      "application/vnd.jupyter.widget-view+json": {
       "model_id": "1c5578a99b074112a1d309d149108074",
       "version_major": 2,
       "version_minor": 0
      },
      "text/plain": [
       "E2Sketch(height=500, objects='[[{\"type\": \"SegmentE2\", \"endpoints\": [[0.0, 0.0], [100, 0]], \"style\": {\"stroke\":…"
      ]
     },
     "metadata": {},
     "output_type": "display_data"
    }
   ],
   "source": [
    "from koebe.graphics.euclidean2viewer import E2Viewer\n",
    "\n",
    "viewer = E2Viewer()\n",
    "viewer.addAll([s1, s2, s3, p1, p2, p3])\n",
    "viewer.show()"
   ]
  },
  {
   "cell_type": "markdown",
   "metadata": {},
   "source": [
    "You also have some control over how the objects are rendered. To do this you need to set a style for any geometric object that you want to appear different than the others. Style objects are created using the `makeStyle` method in the viewer module you are using. `makeStyle` has three different named attributes:\n",
    "\n",
    "* `stroke`: the color of the stroke line\n",
    "* `strokeWeight`: the weight of the stroke\n",
    "* `fill`: the fill color (for objects like polygons)\n",
    "\n",
    "Colors are most easily specified in typical CSS color formats. \n",
    "\n",
    "You can either use the `setStyle` command, passing it one of the geometric objects that has been added to the viewer and a style object after adding the object using `add` or `addAll` or simply pass a tuple containing the goemetric object and its style (in order) to `add` or `addAll`. Here's an example of each: "
   ]
  },
  {
   "cell_type": "code",
   "execution_count": 34,
   "metadata": {},
   "outputs": [
    {
     "data": {
      "application/javascript": [
       "/* \n",
       " * JavaScript to interact with p5viewer.py for viewing constructions in \n",
       " * Jupyter\n",
       " * Based on example: https://hub.gke.mybinder.org/user/jtpio-p5-jupyter-notebook-z9kpfjdk/notebooks/puzzle.ipynb\n",
       " * @author John C. Bowers\n",
       " */ \n",
       "\n",
       "\n",
       "/*** LIBRARIES ***/\n",
       "require.config({\n",
       "    paths: {\n",
       "        'p5': 'https://cdnjs.cloudflare.com/ajax/libs/p5.js/0.9.0/p5.min',\n",
       "        'lodash': 'https://cdnjs.cloudflare.com/ajax/libs/lodash.js/4.17.4/lodash.min'\n",
       "    }\n",
       "});\n",
       "\n",
       "/*** HELPER FUNCTIONS ***/\n",
       "\n",
       "window.defineModule = function (name, dependencies, module) {\n",
       "    // force the recreation of the module\n",
       "    // (when re-executing a cell)\n",
       "    require.undef(name);\n",
       "    \n",
       "    define(name, dependencies, module);\n",
       "};\n",
       "\n",
       "window.createSketchView = function (name, dependencies, module) {\n",
       "    \n",
       "    require.undef(name);\n",
       "    \n",
       "    define(name,\n",
       "           ['@jupyter-widgets/base', 'p5', 'lodash'].concat(dependencies),\n",
       "           (widgets, p5, _, ...deps) => {\n",
       "\n",
       "        let viewName = `${name}View`;\n",
       "        \n",
       "        let View = widgets.DOMWidgetView.extend({\n",
       "            initialize: function () {\n",
       "                this.el.setAttribute('style', 'text-align: center;');\n",
       "            },\n",
       "\n",
       "            render: function () {\n",
       "                // pass the model as the last dependency so it can\n",
       "                // be accessed in the sketch\n",
       "                let sketch = module(...deps, this.model);\n",
       "                setTimeout(() => {\n",
       "                    this.sketch = new p5(sketch, this.el);                    \n",
       "                }, 0);\n",
       "            },\n",
       "\n",
       "            remove: function () {\n",
       "                // stop the existing sketch when the view is removed\n",
       "                // so p5.js can cancel the animation frame callback and free up resources\n",
       "                if (this.sketch) {\n",
       "                    this.sketch.remove();\n",
       "                    this.sketch = null;\n",
       "                }\n",
       "            }\n",
       "        });\n",
       "        \n",
       "        return {\n",
       "            [viewName] : View,\n",
       "        };\n",
       "    });\n",
       "}\n",
       "\n",
       "// Test module defining a few constants, for example purposes\n",
       "// Such constants should ideally be defined directly in the model\n",
       "// and directly accessed by the view\n",
       "\n",
       "defineModule('euclidean2Module', [], () => {\n",
       "    const [W, H] = [500, 500];\n",
       "    return {W, H};\n",
       "})\n",
       "\n",
       "let _shown = false;\n",
       "var THE_STYLE = 0;\n",
       "var _DEBUG = false;\n",
       "\n",
       "createSketchView('E2Sketch', ['euclidean2Module'], (Settings, model) => {\n",
       "    return function(p) {\n",
       "        const {W, H} = Settings;\n",
       "        \n",
       "        p.setup = function(){\n",
       "            let w = model.get('width');\n",
       "            let h = model.get('height');\n",
       "            let s = model.get('scale');\n",
       "            p.createCanvas(w, h);\n",
       "            p.zoom = 1.0;\n",
       "            p.canvasScale = s;\n",
       "            p.frame = 0;\n",
       "        }\n",
       "        \n",
       "        p.setStyle = function(style) {\n",
       "            \n",
       "            if (style == null) return;\n",
       "\n",
       "            if (\"stroke\" in style) {\n",
       "                if (style[\"stroke\"] == null) p.noStroke();\n",
       "                else                         p.stroke(style[\"stroke\"]);\n",
       "            }\n",
       "            \n",
       "            if (\"strokeWeight\" in style) {\n",
       "                if (style[\"strokeWeight\"] != null) p.strokeWeight(style[\"strokeWeight\"]*p.canvasScale);\n",
       "            }\n",
       "            \n",
       "            if (\"fill\" in style) {\n",
       "                if (style[\"fill\"] == null) p.noFill();\n",
       "                else                       p.fill(style[\"fill\"]);\n",
       "            }\n",
       "        }\n",
       "        \n",
       "        p.hasStyle = function (objData) {\n",
       "            return \"style\" in objData && objData[\"style\"] != null;\n",
       "        }\n",
       "        \n",
       "        p.drawPointE2 = function (pointData) {\n",
       "            let pt = pointData[\"point\"];\n",
       "            if (!p.hasStyle(pointData)) {\n",
       "                p.noStroke();\n",
       "                p.fill(100, 125, 255);\n",
       "            }\n",
       "            p.circle(pt[0], pt[1], 5 * p.canvasScale);\n",
       "        }\n",
       "        \n",
       "        p.drawPolygonE2 = function(polygonData) {\n",
       "            let polygon = polygonData[\"vertices\"];\n",
       "            p.beginShape();\n",
       "            polygon.forEach(v => {\n",
       "                p.vertex(v[0], v[1]);\n",
       "            });\n",
       "            p.endShape(p.CLOSE);\n",
       "        }\n",
       "        \n",
       "        p.drawPolygons = function (polygonsData) {\n",
       "            let polygons = polygonsData[\"polygons\"];\n",
       "            polygons.forEach(polygon => {\n",
       "                p.beginShape();\n",
       "                polygon.forEach(v => {\n",
       "                    p.vertex(v[0], v[1]);\n",
       "                });\n",
       "                p.endShape();\n",
       "            });\n",
       "        }\n",
       "        \n",
       "        p.drawCircleE2 = function (circleData) {\n",
       "            let center = circleData[\"center\"];\n",
       "            let radius = circleData[\"radius\"];\n",
       "            if (!p.hasStyle(circleData)) {\n",
       "                p.stroke(0,0,0);\n",
       "                p.noFill();\n",
       "            }\n",
       "            p.circle(center[0], center[1], 2*radius);\n",
       "        }\n",
       "        \n",
       "        p.drawSegmentE2 = function (segData) {\n",
       "            let endpoints = segData[\"endpoints\"];\n",
       "            p.line(endpoints[0][0],\n",
       "                   endpoints[0][1],\n",
       "                   endpoints[1][0],\n",
       "                   endpoints[1][1]);\n",
       "        }\n",
       "        \n",
       "        p.drawCircleArcE2 = function (arcData) {\n",
       "            let center = arcData[\"center\"];\n",
       "            let radius = arcData[\"radius\"];\n",
       "            let srcAngle = arcData[\"srcAngle\"];\n",
       "            let targetAngle = arcData[\"targetAngle\"];\n",
       "            let diameter = 2 * radius;\n",
       "            \n",
       "            p.arc(center[0], center[1], diameter, diameter, srcAngle, targetAngle);\n",
       "        }\n",
       "/*\n",
       "\"center\": arc.disk.center.toPointE2(), \n",
       "                      \"radius\": rad,\n",
       "                      \"srcAngle\": srcAngle, \n",
       "                      \"targetAngle\": targetAngle}\n",
       "                      */\n",
       "        p.draw = function () {\n",
       "            \n",
       "            if (model.get('objectsDirty') || p.objs.length > 1) {\n",
       "                model.set('objectsDirty', false);\n",
       "                p.objs = JSON.parse(model.get('objects'));\n",
       "                \n",
       "                \n",
       "                p.scale(1 / p.canvasScale, -1 / p.canvasScale);\n",
       "                p.translate(p.canvasScale * p.width * 0.5, -p.canvasScale * p.height * 0.5);\n",
       "                \n",
       "            \n",
       "                p.background('#fff');\n",
       "\n",
       "                p.objs[p.frame].forEach(obj => {\n",
       "                    p.push();\n",
       "                    if (\"style\" in obj && obj[\"style\"] != null) {\n",
       "                        p.setStyle(obj[\"style\"]);\n",
       "                    }\n",
       "                    \n",
       "                    switch (obj[\"type\"]) {\n",
       "                        case \"PointE2\": p.drawPointE2(obj); break;\n",
       "                        case \"Polygons\": p.drawPolygons(obj); break;\n",
       "                        case \"PolygonE2\": p.drawPolygonE2(obj); break;\n",
       "                        case \"SegmentE2\": p.drawSegmentE2(obj); break;\n",
       "                        case \"CircleE2\": p.drawCircleE2(obj); break;\n",
       "                        case \"CircleArcE2\": p.drawCircleArcE2(obj); break;\n",
       "                        default: console.log(obj[\"type\"] + \" is not drawable in this sketch.\");\n",
       "                    }\n",
       "                    p.pop();\n",
       "                });\n",
       "                if (p.objs.length == 1) {\n",
       "                    p.noLoop();\n",
       "                } else {\n",
       "                    p.frame = (p.frame + 1) % p.objs.length;\n",
       "                }\n",
       "            }\n",
       "            \n",
       "        }\n",
       "        \n",
       "//         p.keyTyped = function () {\n",
       "//           if (key === 'e') {\n",
       "//             photo.save('photo', 'png');\n",
       "//           }\n",
       "//         }\n",
       "    };\n",
       "})"
      ],
      "text/plain": [
       "<IPython.core.display.Javascript object>"
      ]
     },
     "metadata": {},
     "output_type": "display_data"
    },
    {
     "data": {
      "application/vnd.jupyter.widget-view+json": {
       "model_id": "407f1ab9c2f145e098cf351601ae051c",
       "version_major": 2,
       "version_minor": 0
      },
      "text/plain": [
       "E2Sketch(height=500, objects='[[{\"type\": \"SegmentE2\", \"endpoints\": [[0.0, 0.0], [100, 0]], \"style\": {\"stroke\":…"
      ]
     },
     "metadata": {},
     "output_type": "display_data"
    }
   ],
   "source": [
    "from koebe.graphics.euclidean2viewer import makeStyle\n",
    "\n",
    "viewer = E2Viewer()\n",
    "\n",
    "# Create some styles: \n",
    "redStyle = makeStyle(fill=\"red\")\n",
    "greenStyle = makeStyle(stroke=\"green\", strokeWeight=3.0)\n",
    "\n",
    "# Style the \n",
    "viewer.addAll([(s1, greenStyle), (s2, greenStyle), (s3, greenStyle), p1, p2, p3])\n",
    "\n",
    "# Style the points using setStyle and a loop:\n",
    "for p in [p1, p2, p3]:\n",
    "    viewer.setStyle(p, redStyle)\n",
    "    \n",
    "viewer.show()"
   ]
  },
  {
   "cell_type": "markdown",
   "metadata": {},
   "source": [
    "Viewer objects are also able to show animations. To do this, set up each frame of the animation using `add` and `addAll` and when all objects for a given frame are added call the `pushAnimFrame` to bake the animation in and start working on the next frame (which is initially blank). Here's an example animating our triangle: "
   ]
  },
  {
   "cell_type": "code",
   "execution_count": 35,
   "metadata": {},
   "outputs": [
    {
     "data": {
      "application/javascript": [
       "/* \n",
       " * JavaScript to interact with p5viewer.py for viewing constructions in \n",
       " * Jupyter\n",
       " * Based on example: https://hub.gke.mybinder.org/user/jtpio-p5-jupyter-notebook-z9kpfjdk/notebooks/puzzle.ipynb\n",
       " * @author John C. Bowers\n",
       " */ \n",
       "\n",
       "\n",
       "/*** LIBRARIES ***/\n",
       "require.config({\n",
       "    paths: {\n",
       "        'p5': 'https://cdnjs.cloudflare.com/ajax/libs/p5.js/0.9.0/p5.min',\n",
       "        'lodash': 'https://cdnjs.cloudflare.com/ajax/libs/lodash.js/4.17.4/lodash.min'\n",
       "    }\n",
       "});\n",
       "\n",
       "/*** HELPER FUNCTIONS ***/\n",
       "\n",
       "window.defineModule = function (name, dependencies, module) {\n",
       "    // force the recreation of the module\n",
       "    // (when re-executing a cell)\n",
       "    require.undef(name);\n",
       "    \n",
       "    define(name, dependencies, module);\n",
       "};\n",
       "\n",
       "window.createSketchView = function (name, dependencies, module) {\n",
       "    \n",
       "    require.undef(name);\n",
       "    \n",
       "    define(name,\n",
       "           ['@jupyter-widgets/base', 'p5', 'lodash'].concat(dependencies),\n",
       "           (widgets, p5, _, ...deps) => {\n",
       "\n",
       "        let viewName = `${name}View`;\n",
       "        \n",
       "        let View = widgets.DOMWidgetView.extend({\n",
       "            initialize: function () {\n",
       "                this.el.setAttribute('style', 'text-align: center;');\n",
       "            },\n",
       "\n",
       "            render: function () {\n",
       "                // pass the model as the last dependency so it can\n",
       "                // be accessed in the sketch\n",
       "                let sketch = module(...deps, this.model);\n",
       "                setTimeout(() => {\n",
       "                    this.sketch = new p5(sketch, this.el);                    \n",
       "                }, 0);\n",
       "            },\n",
       "\n",
       "            remove: function () {\n",
       "                // stop the existing sketch when the view is removed\n",
       "                // so p5.js can cancel the animation frame callback and free up resources\n",
       "                if (this.sketch) {\n",
       "                    this.sketch.remove();\n",
       "                    this.sketch = null;\n",
       "                }\n",
       "            }\n",
       "        });\n",
       "        \n",
       "        return {\n",
       "            [viewName] : View,\n",
       "        };\n",
       "    });\n",
       "}\n",
       "\n",
       "// Test module defining a few constants, for example purposes\n",
       "// Such constants should ideally be defined directly in the model\n",
       "// and directly accessed by the view\n",
       "\n",
       "defineModule('euclidean2Module', [], () => {\n",
       "    const [W, H] = [500, 500];\n",
       "    return {W, H};\n",
       "})\n",
       "\n",
       "let _shown = false;\n",
       "var THE_STYLE = 0;\n",
       "var _DEBUG = false;\n",
       "\n",
       "createSketchView('E2Sketch', ['euclidean2Module'], (Settings, model) => {\n",
       "    return function(p) {\n",
       "        const {W, H} = Settings;\n",
       "        \n",
       "        p.setup = function(){\n",
       "            let w = model.get('width');\n",
       "            let h = model.get('height');\n",
       "            let s = model.get('scale');\n",
       "            p.createCanvas(w, h);\n",
       "            p.zoom = 1.0;\n",
       "            p.canvasScale = s;\n",
       "            p.frame = 0;\n",
       "        }\n",
       "        \n",
       "        p.setStyle = function(style) {\n",
       "            \n",
       "            if (style == null) return;\n",
       "\n",
       "            if (\"stroke\" in style) {\n",
       "                if (style[\"stroke\"] == null) p.noStroke();\n",
       "                else                         p.stroke(style[\"stroke\"]);\n",
       "            }\n",
       "            \n",
       "            if (\"strokeWeight\" in style) {\n",
       "                if (style[\"strokeWeight\"] != null) p.strokeWeight(style[\"strokeWeight\"]*p.canvasScale);\n",
       "            }\n",
       "            \n",
       "            if (\"fill\" in style) {\n",
       "                if (style[\"fill\"] == null) p.noFill();\n",
       "                else                       p.fill(style[\"fill\"]);\n",
       "            }\n",
       "        }\n",
       "        \n",
       "        p.hasStyle = function (objData) {\n",
       "            return \"style\" in objData && objData[\"style\"] != null;\n",
       "        }\n",
       "        \n",
       "        p.drawPointE2 = function (pointData) {\n",
       "            let pt = pointData[\"point\"];\n",
       "            if (!p.hasStyle(pointData)) {\n",
       "                p.noStroke();\n",
       "                p.fill(100, 125, 255);\n",
       "            }\n",
       "            p.circle(pt[0], pt[1], 5 * p.canvasScale);\n",
       "        }\n",
       "        \n",
       "        p.drawPolygonE2 = function(polygonData) {\n",
       "            let polygon = polygonData[\"vertices\"];\n",
       "            p.beginShape();\n",
       "            polygon.forEach(v => {\n",
       "                p.vertex(v[0], v[1]);\n",
       "            });\n",
       "            p.endShape(p.CLOSE);\n",
       "        }\n",
       "        \n",
       "        p.drawPolygons = function (polygonsData) {\n",
       "            let polygons = polygonsData[\"polygons\"];\n",
       "            polygons.forEach(polygon => {\n",
       "                p.beginShape();\n",
       "                polygon.forEach(v => {\n",
       "                    p.vertex(v[0], v[1]);\n",
       "                });\n",
       "                p.endShape();\n",
       "            });\n",
       "        }\n",
       "        \n",
       "        p.drawCircleE2 = function (circleData) {\n",
       "            let center = circleData[\"center\"];\n",
       "            let radius = circleData[\"radius\"];\n",
       "            if (!p.hasStyle(circleData)) {\n",
       "                p.stroke(0,0,0);\n",
       "                p.noFill();\n",
       "            }\n",
       "            p.circle(center[0], center[1], 2*radius);\n",
       "        }\n",
       "        \n",
       "        p.drawSegmentE2 = function (segData) {\n",
       "            let endpoints = segData[\"endpoints\"];\n",
       "            p.line(endpoints[0][0],\n",
       "                   endpoints[0][1],\n",
       "                   endpoints[1][0],\n",
       "                   endpoints[1][1]);\n",
       "        }\n",
       "        \n",
       "        p.drawCircleArcE2 = function (arcData) {\n",
       "            let center = arcData[\"center\"];\n",
       "            let radius = arcData[\"radius\"];\n",
       "            let srcAngle = arcData[\"srcAngle\"];\n",
       "            let targetAngle = arcData[\"targetAngle\"];\n",
       "            let diameter = 2 * radius;\n",
       "            \n",
       "            p.arc(center[0], center[1], diameter, diameter, srcAngle, targetAngle);\n",
       "        }\n",
       "/*\n",
       "\"center\": arc.disk.center.toPointE2(), \n",
       "                      \"radius\": rad,\n",
       "                      \"srcAngle\": srcAngle, \n",
       "                      \"targetAngle\": targetAngle}\n",
       "                      */\n",
       "        p.draw = function () {\n",
       "            \n",
       "            if (model.get('objectsDirty') || p.objs.length > 1) {\n",
       "                model.set('objectsDirty', false);\n",
       "                p.objs = JSON.parse(model.get('objects'));\n",
       "                \n",
       "                \n",
       "                p.scale(1 / p.canvasScale, -1 / p.canvasScale);\n",
       "                p.translate(p.canvasScale * p.width * 0.5, -p.canvasScale * p.height * 0.5);\n",
       "                \n",
       "            \n",
       "                p.background('#fff');\n",
       "\n",
       "                p.objs[p.frame].forEach(obj => {\n",
       "                    p.push();\n",
       "                    if (\"style\" in obj && obj[\"style\"] != null) {\n",
       "                        p.setStyle(obj[\"style\"]);\n",
       "                    }\n",
       "                    \n",
       "                    switch (obj[\"type\"]) {\n",
       "                        case \"PointE2\": p.drawPointE2(obj); break;\n",
       "                        case \"Polygons\": p.drawPolygons(obj); break;\n",
       "                        case \"PolygonE2\": p.drawPolygonE2(obj); break;\n",
       "                        case \"SegmentE2\": p.drawSegmentE2(obj); break;\n",
       "                        case \"CircleE2\": p.drawCircleE2(obj); break;\n",
       "                        case \"CircleArcE2\": p.drawCircleArcE2(obj); break;\n",
       "                        default: console.log(obj[\"type\"] + \" is not drawable in this sketch.\");\n",
       "                    }\n",
       "                    p.pop();\n",
       "                });\n",
       "                if (p.objs.length == 1) {\n",
       "                    p.noLoop();\n",
       "                } else {\n",
       "                    p.frame = (p.frame + 1) % p.objs.length;\n",
       "                }\n",
       "            }\n",
       "            \n",
       "        }\n",
       "        \n",
       "//         p.keyTyped = function () {\n",
       "//           if (key === 'e') {\n",
       "//             photo.save('photo', 'png');\n",
       "//           }\n",
       "//         }\n",
       "    };\n",
       "})"
      ],
      "text/plain": [
       "<IPython.core.display.Javascript object>"
      ]
     },
     "metadata": {},
     "output_type": "display_data"
    },
    {
     "data": {
      "application/vnd.jupyter.widget-view+json": {
       "model_id": "3c2a4f59603d4f25993f2b60838d54bd",
       "version_major": 2,
       "version_minor": 0
      },
      "text/plain": [
       "E2Sketch(height=500, objects='[[{\"type\": \"SegmentE2\", \"endpoints\": [[0.0, 250.0], [100, 250]], \"style\": {\"stro…"
      ]
     },
     "metadata": {},
     "output_type": "display_data"
    }
   ],
   "source": [
    "from koebe.geometries.euclidean2 import VectorE2\n",
    "\n",
    "viewer = E2Viewer()\n",
    "\n",
    "# Create some styles: \n",
    "redStyle = makeStyle(fill=\"red\")\n",
    "greenStyle = makeStyle(stroke=\"green\", strokeWeight=3.0)\n",
    "\n",
    "for t in range(500):\n",
    "\n",
    "    v = VectorE2(0, 250-t)\n",
    "\n",
    "    # Create three points:\n",
    "    p1 = PointE2.O + v\n",
    "    p2 = PointE2(100, 0) + v\n",
    "    p3 = PointE2(0, 100) + v\n",
    "\n",
    "    # Create three line segments:\n",
    "    s1 = SegmentE2(p1, p2)\n",
    "    s2 = SegmentE2(p2, p3)\n",
    "    s3 = SegmentE2(p3, p1)\n",
    "\n",
    "    viewer.addAll([(s1, greenStyle), (s2, greenStyle), (s3, greenStyle), p1, p2, p3])\n",
    "\n",
    "    # Style the points using setStyle and a loop:\n",
    "    for p in [p1, p2, p3]:\n",
    "        viewer.setStyle(p, redStyle)\n",
    "    \n",
    "    viewer.pushAnimFrame()\n",
    "    \n",
    "viewer.show()"
   ]
  },
  {
   "cell_type": "markdown",
   "metadata": {},
   "source": [
    "# Geometric Primitives\n",
    "\n",
    "When designing geometric algorithms we often need to perform a series of simple tests of the following flavor: given two points $P$ and $Q$, does a third point $R$ lie on the line through $P$ and $Q$ or not? Given a line $L$ through points $P$ and $Q$, and two other points $X$ and $Y$, do the points $X$ and $Y$ lie on the same side of $L$ or on opposite sides of $L$? Given a circle $C$ through three points $P$, $Q$, and $R$, is a fourth point $X$ inside, on, or outside the circle? Etc. \n",
    "\n",
    "The answers to each of these questions is either true or false, and is used as part of a decision in how the algorithm should proceed. When we talk about these algorithms in class, we will simply say something like \"if the point is inside the circle then...\" To code these algorithms, however, we have to actually code functions that can determine the answers to these true/false questions. These questions (and others like them) have a name: they are called _predicates_ and are connected to the predicate logic you studied in CS 227. The code behind these questions comes from the determinants of matrices, which are studied in linear algebra. As we discussed in class, determinants are used to compute twice the _signed_ volume of a tetrahedron (or its n-dimensional cousin an n-simplex) and this turns out to be enormously useful in developing lots of geometric primitives. \n",
    "\n",
    "The base of all these predicates is twice the signed area of a triangle (or, if you prefer, the signed area of a parallelogram). Suppose I give you three points, $A$, $B$, and $C$ on the parallelogram $ABCD$, like so: \n",
    "\n",
    "![A parallelogram ABCD](img/parallelogram.png \"A parallelogram ABCD\")\n",
    "\n",
    "Using a little linear algebra it can be shown that the signed area of this parallelogram is computed using the following function: \n",
    "\n",
    "$$Area(A, B, C) := (B_x - A_x)(C_y - A_y) - (C_x - A_x)(B_y - A_y)$$\n",
    "\n",
    "For a reader with linear algebra, you may note that this is the same as the determinant: \n",
    "\n",
    "$$\\begin{vmatrix} A_x & A_y & 1 \\\\ B_x & B_y & 1 \\\\ C_x & C_y & 1\\end{vmatrix}$$\n",
    "\n",
    "(As a digression, notice that we are lifting our 2D world up into 3D in the $z=1$ plane. If you are unclear on the connection between the two above, it may help to ponder the fact that the volume of a tetrahedron is 1/2 the area of the base of the tetrahedron times the height of the tetrahedron...)\n",
    "\n",
    "As mentioned in class, the great thing about this area function is that it is _signed_. This means that it is negative if the parallelogram is oriented in a counter-clockwise direction (in other words, if you walk around the parallelogram starting from $A$ counter-clockwise, you will encounter $B$ before $C$) and it is positive if the parallelogram is oriented in a clockwise direction. \n",
    "\n",
    "Notice also that we do not need to know $D$ to compute this area, and furthermore, the area of the triangle $ABC$ is simply one-half the area of the parallelogram $ABCD$. Thus we have: "
   ]
  },
  {
   "cell_type": "code",
   "execution_count": null,
   "metadata": {},
   "outputs": [],
   "source": [
    "def areaOfParallelogram(A, B, C):\n",
    "    return (B.x - A.x) * (C.y - A.y) - (C.x - A.x) * (B.y - A.y)\n",
    "\n",
    "def areaOfTriangle(A, B, C):\n",
    "    return 0.5 * areaOfParallelogram(A, B, C)"
   ]
  },
  {
   "cell_type": "markdown",
   "metadata": {},
   "source": [
    "# Exercises\n",
    "\n",
    "### Exercise 1: \n",
    "\n",
    "In the code block below, add code below to draw a triangle through three points which is red if the points are ordered counter-clockwise along its boundary, and blue otherwise. "
   ]
  },
  {
   "cell_type": "code",
   "execution_count": null,
   "metadata": {},
   "outputs": [],
   "source": [
    "points = [PointE2.O, PointE2(100, 0), PointE2(0, 100)]\n",
    "\n",
    "# Your exercise 1 solution below this comment:\n"
   ]
  },
  {
   "cell_type": "markdown",
   "metadata": {},
   "source": [
    "### Exercise 2:\n",
    "\n",
    "Add a fourth point to the `points` list created in exercise 1. Write code to draw a second triangle between the first, second, and fourth point of `points`. Make the triangle similarly colored. Image a line through the first two points dividing the plane. When do the two triangles have the same color? "
   ]
  },
  {
   "cell_type": "code",
   "execution_count": null,
   "metadata": {},
   "outputs": [],
   "source": [
    "# Your exercise 2 solution below this comment: \n"
   ]
  },
  {
   "cell_type": "markdown",
   "metadata": {},
   "source": [
    "### Exercise 3:\n",
    "\n",
    "Here is something remarkable about the signed area. It can be used to compute the (signed) area of any polygon. To do this, we are going to change the setup a bit. Let $P = (p_1, p_2, \\dots, p_n)$ be a polygon and $p$ be any other point in the plane. The signed area of the polygon is given by adding up all of the signed areas of the triangles $p p_i p_{i+1}$ formed by creating triangles between the point $p$ and each edge $p_i p_{i+1}$ of the polygon.\n",
    "\n",
    "In other words, $$Area(P) = \\sum_{i=1}^n Area(p, p_i, p_{i+1}).$$ This is true regardless of where the point $p$ is chosen. \n",
    "\n",
    "#### Question:\n",
    "\n",
    "Why is this true? Draw a few simple examples on paper and see if you can figure out a reason why this might be true. \n",
    "\n",
    "#### Coding:\n",
    "\n",
    "You are going to add code to compute the signed area of a polygon and investigate its properties. \n",
    "\n",
    "In the code below we create a polygon and a point p to use to calculate the signed area. \n",
    "\n",
    "1. Add a function called `signedArea` that takes as input the polygon and a point and computes the area of the polygon.\n",
    "2. Color the polygon blue if the area is negative and red otherwise. \n",
    "3. Add a call to the `print` function to print the area of the polygon. Investigate whether changing the location of the point `p` changes the returned area. \n",
    "4. Try some different polygons to discover when the polygon has a negative area vs. when it has a positive area. Once you have discovered this, write a function called `reorientPolygon` that takes as input a `PolygonE2` object and returns a new `PolygonE2` object representing the same polygon (with the same vertices, though possibly not in the same order) except with opposite area sign."
   ]
  },
  {
   "cell_type": "code",
   "execution_count": null,
   "metadata": {},
   "outputs": [],
   "source": [
    "from koebe.geometries.euclidean2 import PolygonE2\n",
    "\n",
    "polygon = PolygonE2([\n",
    "    PointE2(50, 50), \n",
    "    PointE2(100, 100), \n",
    "    PointE2(150, 50), \n",
    "    PointE2(150, 150), \n",
    "    PointE2(50, 150)\n",
    "])\n",
    "\n",
    "p = PointE2(-50, 75)\n",
    "\n",
    "viewer = E2Viewer()\n",
    "\n",
    "# Create some styles: \n",
    "blueFillStyle = makeStyle(fill=\"blue\")\n",
    "viewer.add(polygon, blueFillStyle)  \n",
    "viewer.add(p)\n",
    "viewer.show()"
   ]
  },
  {
   "cell_type": "markdown",
   "metadata": {},
   "source": [
    "# Challenge Questions\n",
    "\n",
    "Puzzle over the following 3 questions. The answers are online, so _do not look them up!_ The purpose of this exercise is to help you start to think geometrically and start working with geometric objects, not for you to know the answer.\n",
    "\n",
    "![Three challenge questions.](img/challenge.png)"
   ]
  },
  {
   "cell_type": "code",
   "execution_count": null,
   "metadata": {},
   "outputs": [],
   "source": []
  }
 ],
 "metadata": {
  "kernelspec": {
   "display_name": "Python 3",
   "language": "python",
   "name": "python3"
  },
  "language_info": {
   "codemirror_mode": {
    "name": "ipython",
    "version": 3
   },
   "file_extension": ".py",
   "mimetype": "text/x-python",
   "name": "python",
   "nbconvert_exporter": "python",
   "pygments_lexer": "ipython3",
   "version": "3.7.3"
  }
 },
 "nbformat": 4,
 "nbformat_minor": 2
}
