{
 "cells": [
  {
   "cell_type": "markdown",
   "metadata": {},
   "source": [
    "# Objectives\n",
    "\n",
    "In this lab you will\n",
    "\n",
    "* Practice working with the linked-list polygon data structure. \n",
    "* Implement several basic convex hull algorithms. \n",
    "\n",
    "# Starter Code \n",
    "\n",
    "## Geometric Starter Code:"
   ]
  },
  {
   "cell_type": "code",
   "execution_count": 2,
   "metadata": {},
   "outputs": [],
   "source": [
    "from koebe.geometries.euclidean2 import *\n",
    "from random import random\n",
    "\n",
    "def areaOfTriangle(A:PointE2, B:PointE2, C:PointE2):\n",
    "    \"\"\"Signed area of a triangle\"\"\"\n",
    "    return 0.5 * ((B.x - A.x) * (C.y - A.y) - (C.x - A.x) * (B.y - A.y))\n",
    "\n",
    "def leftHandTurn(A:PointE2, B:PointE2, C:PointE2):\n",
    "    \"\"\"Returns true iff. the points A, B, C constitute a left hand turn.\"\"\"\n",
    "    return areaOfParallelogram(A, B, C) > 0\n",
    "\n",
    "def perturb(pointSet, scale=1e-8):\n",
    "    \"\"\"Randomly perturbs a list of points by a small amount.\"\"\"\n",
    "    eps = [((random()-0.5)*scale, (random()-0.5)*scale) for _ in range(len(pointSet))]\n",
    "    return [PointE2(pointSet[i].x + eps[i][0], pointSet[i].y + eps[i][1]) for i in range(len(pointSet))]\n",
    "\n",
    "class Vertex:\n",
    "    \"\"\"\n",
    "    A class for a Vertex in a Polygon. Each vertex stores a PointE2 .pos for its\n",
    "    coordinates, as well as .next and .prev attributes for the next and previous \n",
    "    vertices along the polygon.\n",
    "    \"\"\"\n",
    "    def __init__(self, pos: PointE2):\n",
    "        \"\"\"\n",
    "        Initializes the vertex at the given position.\n",
    "        \n",
    "        Attributes:\n",
    "            pos: PointE2 - The position to initialize this vertex to.\n",
    "        \"\"\"\n",
    "        self.pos = pos\n",
    "        self.prev = None\n",
    "        self.next = None\n",
    "    \n",
    "    def setNextVertex(self, nextVertex: \"Vertex\"):\n",
    "        \"\"\"\n",
    "        Makes nextVertex the next vertex from this one and makes this vertex\n",
    "        the previous vertex to nextVertex. \n",
    "        \"\"\"\n",
    "        self.next = nextVertex\n",
    "        nextVertex.prev = self\n",
    "\n",
    "class Polygon:\n",
    "    \"\"\"\n",
    "    Simple container class for a Polygon. Should store a firstVertex. \n",
    "    As a convenience a list of PointE2 objects may be passed in to the \n",
    "    vertexPositions parameter, and the constructor will initialize a \n",
    "    doubly-connected linked list of Vertex objects with the PointE2s as the\n",
    "    .pos attributes. \n",
    "    \"\"\"\n",
    "    def __init__(self, vertexPositions = []):\n",
    "        if len(vertexPositions) > 0:\n",
    "            vertices = [Vertex(p) for p in vertexPositions]\n",
    "            for i in range(len(vertices)):\n",
    "                vertices[i - 1].setNextVertex(vertices[i])\n",
    "            self.firstVertex = vertices[0]\n",
    "        else:\n",
    "            self.firstVertex = None\n",
    "    \n",
    "    def __iter__(self):\n",
    "        \"\"\"\n",
    "        An iterator for the polygon that allows you to loop\n",
    "        over a polygon's vertices using: \n",
    "        \n",
    "        for vertex in polygon:\n",
    "            ... do something with the vertex object ...\n",
    "        \"\"\"\n",
    "        current = self.firstVertex\n",
    "        while True:\n",
    "            yield current\n",
    "            current = current.next\n",
    "            if current is self.firstVertex:\n",
    "                break\n",
    "    \n",
    "    def vertexPositions(self):\n",
    "        \"\"\"\n",
    "        Returns the positions of all ther vertices in order.\n",
    "        \"\"\"\n",
    "        return [v.pos for v in self] # Uses the __iter__ to build a list\n",
    "    \n",
    "    def copy(self):\n",
    "        \"\"\"\n",
    "        Returns a copy of this polygon. This performs a shallow copy\n",
    "        since PointE2 objects are immutable. \n",
    "        \"\"\"\n",
    "        return Polygon(self.vertexPositions())"
   ]
  },
  {
   "cell_type": "markdown",
   "metadata": {},
   "source": [
    "## Graphics Starter Code: \n",
    "\n",
    "Here we package up the `ipycanvas` drawing code into a convenience function called `PointEditorCanvas` that takes three parameters:\n",
    "\n",
    "* `size`, a tuple for the size of the canvas (e.g. `(600, 600)`). \n",
    "* `points`, the initial point set given as a list of `PointE2` objects. \n",
    "* `draw_func`, a function that takes a canvas and the current point set as its two parameters. \n",
    "\n",
    "By the way, this function is using some nifty higher-order functional programming with closures. If you're interested, ask me about it. "
   ]
  },
  {
   "cell_type": "code",
   "execution_count": 3,
   "metadata": {},
   "outputs": [],
   "source": [
    "from ipycanvas import Canvas, hold_canvas\n",
    "\n",
    "def PointEditorCanvas(size, pts, draw_func = None):\n",
    "    \n",
    "    points = list(pts)\n",
    "    canvas = Canvas(size=size)\n",
    "    selectedPointIdx = -1\n",
    "    \n",
    "    def _canvas_draw():\n",
    "        nonlocal canvas, points, selectedPointIdx, draw_func\n",
    "        \n",
    "        with hold_canvas(canvas):\n",
    "            canvas.clear()\n",
    "\n",
    "            if draw_func != None:\n",
    "                draw_func(canvas, points)\n",
    "\n",
    "            canvas.fill_style = 'blue'\n",
    "            canvas.fill_rects([round(p.x) - 4 for p in points], \n",
    "                              [round(p.y) - 4 for p in points], \n",
    "                              8)\n",
    "            if selectedPointIdx != -1:\n",
    "                canvas.fill_style = 'red'\n",
    "                canvas.fill_rect(round(points[selectedPointIdx].x) - 4, \n",
    "                                 round(points[selectedPointIdx].y) - 4, \n",
    "                                 8)\n",
    "            \n",
    "    def handle_mouse_down(x, y):\n",
    "        nonlocal selectedPointIdx\n",
    "        # See if any point is close to x, y\n",
    "        cursorPoint = PointE2(x, y)\n",
    "        sqDists = [p.distSqTo(cursorPoint) for p in points]\n",
    "        minIdx = sqDists.index(min(sqDists))\n",
    "        if sqDists[minIdx] < 24:\n",
    "            selectedPointIdx = minIdx\n",
    "        _canvas_draw()\n",
    "\n",
    "    def handle_mouse_up(x, y):\n",
    "        nonlocal selectedPointIdx\n",
    "        selectedPointIdx = -1 # No point is selected anymore.\n",
    "        _canvas_draw()\n",
    "\n",
    "    def handle_mouse_move(x, y):\n",
    "        nonlocal selectedPointIdx\n",
    "        if selectedPointIdx >= 0:\n",
    "            points[selectedPointIdx] = PointE2(x, y)\n",
    "        _canvas_draw()\n",
    "    \n",
    "    canvas.on_mouse_down(handle_mouse_down)\n",
    "    canvas.on_mouse_up(handle_mouse_up)\n",
    "    canvas.on_mouse_move(handle_mouse_move)\n",
    "    \n",
    "    _canvas_draw()\n",
    "    \n",
    "    return canvas"
   ]
  },
  {
   "cell_type": "markdown",
   "metadata": {},
   "source": [
    "Here's an example of how to use the `PointEditorCanvas` to simply draw a polygon on the point set. "
   ]
  },
  {
   "cell_type": "code",
   "execution_count": 5,
   "metadata": {},
   "outputs": [
    {
     "data": {
      "application/vnd.jupyter.widget-view+json": {
       "model_id": "7978b1749fb847bcb2ed6e2c3c77732c",
       "version_major": 2,
       "version_minor": 0
      },
      "text/plain": [
       "Canvas(layout=Layout(height='600px', width='600px'), size=(600, 600))"
      ]
     },
     "metadata": {},
     "output_type": "display_data"
    }
   ],
   "source": [
    "def drawPolygon(canvas, points):\n",
    "    \n",
    "    polygon = Polygon(perturb(points))\n",
    "\n",
    "    canvas.begin_path()\n",
    "    canvas.move_to(round(polygon.firstVertex.pos.x), round(polygon.firstVertex.pos.y))\n",
    "    for p in polygon.vertexPositions():\n",
    "        canvas.line_to(round(p.x), round(p.y))\n",
    "    canvas.close_path()\n",
    "    canvas.stroke()\n",
    "\n",
    "\n",
    "PointEditorCanvas(\n",
    "    size=(600,600), \n",
    "    pts=[PointE2(100, 200), PointE2(200, 200), \n",
    "         PointE2(200, 300), PointE2(200, 400), \n",
    "         PointE2(300, 200), PointE2(300, 300), \n",
    "         PointE2(300, 400), PointE2(400, 400), \n",
    "         PointE2(500, 100)], \n",
    "    draw_func=drawPolygon\n",
    ")"
   ]
  },
  {
   "cell_type": "code",
   "execution_count": 31,
   "metadata": {},
   "outputs": [],
   "source": [
    "def orient(tri):\n",
    "    \"\"\"\n",
    "    A helpful convenience method that takes a list tri of three PointE2 objects\n",
    "    and returns the list in ccw order. You may find this useful in orienting \n",
    "    your polygon. \n",
    "    \"\"\"\n",
    "    if leftHandTurn(*tri):\n",
    "        return tri\n",
    "    else:\n",
    "        return list(reversed(tri))\n",
    "\n",
    "def findLowerTangent(poly, p):\n",
    "    \"\"\"\n",
    "    Returns the vertex that is a lower tangent for the polygon with p. \n",
    "    \"\"\"\n",
    "    pass # TODO\n",
    "\n",
    "def findUpperTangent(poly, p):\n",
    "    \"\"\"\n",
    "    Returns the vertex that is an upper tangent for the polygon with p.\n",
    "    \"\"\"\n",
    "    pass # TODO\n",
    "\n",
    "def incrConv(P):\n",
    "    \n",
    "    \"\"\"\n",
    "    Computes the convex hull ofa list P of PointE2s using the incremental algorithm. \n",
    "    \n",
    "    Assumes P has at least three points in it. \n",
    "    \"\"\"\n",
    "    thePoints = list(P) # Make a copy of P. \n",
    "    \n",
    "    # TODO"
   ]
  },
  {
   "cell_type": "markdown",
   "metadata": {},
   "source": [
    "# Task 1: \n",
    "\n",
    "Complete the code above (fill in for the `# TODO` markers) to implement the incremental algorithm for computing convex hulls. Then, in the code block below define a `drawIncrConvHull` function modeled on the `drawPolygon` function above and use it to draw a `PointEditorCanvas` that maintains the convex hull in the code block below:"
   ]
  },
  {
   "cell_type": "code",
   "execution_count": 7,
   "metadata": {},
   "outputs": [],
   "source": [
    "# Your drawing code here"
   ]
  },
  {
   "cell_type": "markdown",
   "metadata": {},
   "source": [
    "# Task 2: \n",
    "\n",
    "You will now implement the $O(n\\log n)$ Graham scan algorithm for computing convex hulls. The pseudo code is given in the comments. \n",
    "\n",
    "## Sorting in Python\n",
    "\n",
    "Before we let's look at how to do sorting in python. \n",
    "\n",
    "__WARNING:__ This is a little bit advanced from a programming perspective. If this goes over your head right now, don't worry about it, I'm happy to help you get these methods implemented. "
   ]
  },
  {
   "cell_type": "code",
   "execution_count": 15,
   "metadata": {},
   "outputs": [
    {
     "name": "stdout",
     "output_type": "stream",
     "text": [
      "Sorted: [1, 1, 2, 2, 3, 5, 5, 7, 8]\n",
      "Sorted: [8, 7, 5, 5, 3, 2, 2, 1, 1]\n",
      "Sorted [PointE2(x=1, y=5), PointE2(x=3, y=1), PointE2(x=3, y=4), PointE2(x=3, y=7), PointE2(x=10, y=11)]\n",
      "Sorted by distance to (3.2, 3.4) [PointE2(x=3, y=4), PointE2(x=3, y=1), PointE2(x=1, y=5), PointE2(x=3, y=7), PointE2(x=10, y=11)]\n"
     ]
    }
   ],
   "source": [
    "aList = [2, 3, 1, 5, 7, 8, 1, 5, 2]\n",
    "\n",
    "# We can sort a list using the element's built in comparison function:\n",
    "\n",
    "sList = sorted(aList)\n",
    "print(f\"Sorted: {sList}\")"
   ]
  },
  {
   "cell_type": "code",
   "execution_count": null,
   "metadata": {},
   "outputs": [],
   "source": [
    "\n",
    "# We can optionally supply a \"key\" function, that creates the value to be used sorting\n",
    "# For example, if we want to sort in reverse order, we could flip the sign of each \n",
    "# number to be its key. \n",
    "\n",
    "def negate(x):\n",
    "    return -x\n",
    "\n",
    "sList = sorted(aList, key=negate)\n",
    "print(f\"Sorted: {sList}\")\n"
   ]
  },
  {
   "cell_type": "code",
   "execution_count": null,
   "metadata": {},
   "outputs": [],
   "source": [
    "\n",
    "# It is a little trickier to create a comparator function that compares two values. \n",
    "# This is typically done by providing a function comp(x, y) that returns -1 if x\n",
    "# comes before y in sorted order, 0 if they should be considered the same, or \n",
    "# 1 if x comes after y. For example: \n",
    "\n",
    "def comparePoints(p, q):\n",
    "    \"\"\"\n",
    "    Compares points first by x-coordinate and then breaks ties by y-coordinate. \n",
    "    \"\"\"\n",
    "    if p.x < q.x:\n",
    "        return -1\n",
    "    elif p.x > q.x:\n",
    "        return 1\n",
    "    elif p.y < q.y:\n",
    "        return -1\n",
    "    elif p.y > q.y:\n",
    "        return 1\n",
    "    else:\n",
    "        return 0\n",
    "    \n",
    "pointList = [PointE2(3, 4), PointE2(3, 1), PointE2(3, 7), PointE2(10, 11), PointE2(1, 5)]\n"
   ]
  },
  {
   "cell_type": "code",
   "execution_count": null,
   "metadata": {},
   "outputs": [],
   "source": [
    "\n",
    "# To use a comparator function like comparePoints we have to convert it using\n",
    "# some python magic to a key function using a library called func_tools\n",
    "\n",
    "from functools import cmp_to_key\n",
    "\n",
    "sList = sorted(pointList, key=cmp_to_key(comparePoints))\n",
    "print(f\"Sorted {sList}\")\n"
   ]
  },
  {
   "cell_type": "code",
   "execution_count": null,
   "metadata": {},
   "outputs": [],
   "source": [
    "\n",
    "# Now let's do something super tricky. We would like to sort points by the distance \n",
    "# to some other point, say: \n",
    "specialPoint = PointE2(3.2, 3.4)\n",
    "\n",
    "def distCompare(p, q):\n",
    "    global specialPoint\n",
    "    \n",
    "    dp = specialPoint.distSqTo(p)\n",
    "    dq = specialPoint.distSqTo(q)\n",
    "    \n",
    "    if dp < dq:\n",
    "        return -1\n",
    "    elif dp > dq:\n",
    "        return 1\n",
    "    else:\n",
    "        return 0\n",
    "\n",
    "sList = sorted(pointList, key=cmp_to_key(distCompare))\n",
    "print(f\"Sorted by distance to (3.2, 3.4) {sList}\")\n"
   ]
  },
  {
   "cell_type": "code",
   "execution_count": 25,
   "metadata": {},
   "outputs": [
    {
     "name": "stdout",
     "output_type": "stream",
     "text": [
      "Sorted by distance to (1, 1) [PointE2(x=3, y=4), PointE2(x=3, y=1), PointE2(x=1, y=5), PointE2(x=3, y=7), PointE2(x=10, y=11)]\n"
     ]
    }
   ],
   "source": [
    "# The problem with this approach is the use of a global variable specialPoint. What\n",
    "# if I want to have different versions of the distCompare function, each with a \n",
    "# different special point? We can use higher-order functions to achieve this:\n",
    "\n",
    "# Let's first change distCompare so that it takes in the special point as a\n",
    "# parameter:\n",
    "def distCompare(specialPoint, p, q):\n",
    "    dp = specialPoint.distSqTo(p)\n",
    "    dq = specialPoint.distSqTo(q)\n",
    "    \n",
    "    if dp < dq:\n",
    "        return -1\n",
    "    elif dp > dq:\n",
    "        return 1\n",
    "    else:\n",
    "        return 0\n",
    "\n",
    "# Now we create a factory function that takes in a special point\n",
    "# and partially applies the distCompare function to it. \n",
    "def distCompare_factory(specialPoint):\n",
    "    from functools import cmp_to_key\n",
    "    def distCompareWithSpecialPoint(p, q):\n",
    "        return distCompare(specialPoint, p, q)\n",
    "    return cmp_to_key(distCompareWithSpecialPoint)\n",
    "\n",
    "sList = sorted(pointList, key=distCompare_factory(specialPoint))\n",
    "print(f\"Sorted by distance to (1, 1) {sList}\")"
   ]
  },
  {
   "cell_type": "code",
   "execution_count": 29,
   "metadata": {},
   "outputs": [
    {
     "name": "stdout",
     "output_type": "stream",
     "text": [
      "x is 3\n",
      "y is 5\n"
     ]
    },
    {
     "data": {
      "text/plain": [
       "8"
      ]
     },
     "execution_count": 29,
     "metadata": {},
     "output_type": "execute_result"
    }
   ],
   "source": [
    "# Notice that the nested function `distCompareWithSpecialPoint` \n",
    "# in `distCompare_factory` above is essentially the `distCompare` \n",
    "# function with its first parameter hard-coded to the specialPoint.\n",
    "#\n",
    "# This is called a partial application of the function, since we've \n",
    "# only passed the function some of the parameters, leaving the others free.\n",
    "#\n",
    "# Python's functools package has a shorthand for this called partial. \n",
    "# Here's a quick example: \n",
    "\n",
    "def add(x, y):\n",
    "    print(f\"x is {x}\")\n",
    "    print(f\"y is {y}\")\n",
    "    return x + y\n",
    "\n",
    "from functools import partial\n",
    "\n",
    "add3to = partial(add, 3) # Create a new function, which is essentially add(3, y)\n",
    "add3to(5) # We already gave add3to a valuef or x, we only need to give it y. "
   ]
  },
  {
   "cell_type": "code",
   "execution_count": 30,
   "metadata": {},
   "outputs": [
    {
     "name": "stdout",
     "output_type": "stream",
     "text": [
      "Sorted by distance to (1, 1) [PointE2(x=3, y=4), PointE2(x=3, y=1), PointE2(x=1, y=5), PointE2(x=3, y=7), PointE2(x=10, y=11)]\n"
     ]
    }
   ],
   "source": [
    "# We can use this to simplify our distCompare_factory method: \n",
    "\n",
    "def distCompare_factory(specialPoint):\n",
    "    from functools import partial, cmp_to_key\n",
    "    return cmp_to_key(partial(distCompare, specialPoint))\n",
    "\n",
    "sList = sorted(pointList, key=distCompare_factory(specialPoint))\n",
    "print(f\"Sorted by distance to (1, 1) {sList}\")"
   ]
  },
  {
   "cell_type": "markdown",
   "metadata": {},
   "source": [
    "## Your turn:"
   ]
  },
  {
   "cell_type": "code",
   "execution_count": null,
   "metadata": {},
   "outputs": [],
   "source": [
    "def lht_compare(p, q0, q1):\n",
    "    \"\"\"\n",
    "    Returns: \n",
    "         1 if p q0 q1 is a left hand turn, \n",
    "        -1 if p q0 q1 is a right hand turn, \n",
    "        if p q0 q1 are collinear (areaOfTriangle(p, q0, q1) == 0) then\n",
    "            -1 if p is closer to q0 then q1\n",
    "             1 if p is closer to q1 then q0\n",
    "             0 otherwise\n",
    "    \"\"\"\n",
    "    pass # TODO\n",
    "\n",
    "def lht_comparator_factory(p):\n",
    "    \"\"\"\n",
    "    This function uses partial function application and closures to \n",
    "    wrap the lht_compare function and close it with a given value for\n",
    "    the first point p. \n",
    "    \n",
    "    This can be used to sort a list of points by lht_compare using the \n",
    "    following:\n",
    "    \n",
    "    # Sorts a list of points pointList in ccw order around the \n",
    "    # given point p. \n",
    "    sortedPoints = sorted(pointList, key=lht_comparator_factory(p))\n",
    "    \"\"\"\n",
    "    from functools import partial, cmp_to_key\n",
    "    compare = partial(lht_compare, p)\n",
    "    return cmp_to_key(compare)\n",
    "\n",
    "def grahamScan_sortHelper(P):\n",
    "    \"\"\"\n",
    "    Helper method that takes in a list of points P, finds the lowest point\n",
    "    p by y coordinate, breaking ties by x coordinate and returns the list\n",
    "    of points in order p in index 0 followed by the remaining points sorted\n",
    "    using the lht_comparator_key. \n",
    "    \"\"\"\n",
    "    pass # TODO\n",
    "\n",
    "def grahamScan(P):\n",
    "    \"\"\"\n",
    "    Return the convex hull of P computed using the grahamScan method. \n",
    "    \"\"\"\n",
    "    pass # TODO"
   ]
  },
  {
   "cell_type": "markdown",
   "metadata": {},
   "source": [
    "Once you've implemented the functions above in the code block below define a `drawGrahamScanConvHull` function modeled on the `drawPolygon` function above and use it to draw a `PointEditorCanvas` that maintains the convex hull in the code block below:"
   ]
  },
  {
   "cell_type": "code",
   "execution_count": null,
   "metadata": {},
   "outputs": [],
   "source": [
    "# Your drawing code here."
   ]
  }
 ],
 "metadata": {
  "kernelspec": {
   "display_name": "Python 3",
   "language": "python",
   "name": "python3"
  },
  "language_info": {
   "codemirror_mode": {
    "name": "ipython",
    "version": 3
   },
   "file_extension": ".py",
   "mimetype": "text/x-python",
   "name": "python",
   "nbconvert_exporter": "python",
   "pygments_lexer": "ipython3",
   "version": "3.7.3"
  }
 },
 "nbformat": 4,
 "nbformat_minor": 2
}
