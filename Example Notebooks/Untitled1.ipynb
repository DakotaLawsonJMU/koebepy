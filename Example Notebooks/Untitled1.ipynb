{
 "cells": [
  {
   "cell_type": "code",
   "execution_count": 7,
   "metadata": {},
   "outputs": [],
   "source": [
    "from scipy.sparse.csgraph import minimum_spanning_tree as mst\n",
    "from scipy.sparse import csr_matrix\n",
    "from random import random"
   ]
  },
  {
   "cell_type": "code",
   "execution_count": 13,
   "metadata": {},
   "outputs": [],
   "source": [
    "n = 30\n",
    "N = n * n\n",
    "graph = [[0 for _ in range(N)] for _ in range(N)]\n",
    "\n",
    "# add the left to right: \n",
    "for i in range(n):\n",
    "    for j in range(n-1):\n",
    "        idx = i * n + j\n",
    "        idx2 = i * n + (j + 1)\n",
    "        graph[idx][idx2] = graph[idx2][idx] = random()*random()\n",
    "\n",
    "# add the top to bottoms\n",
    "for i in range(n-1):\n",
    "    for j in range(n):\n",
    "        idx = i * n + j\n",
    "        idx2 = (i+1) * n + j\n",
    "        graph[idx][idx2] = graph[idx2][idx] = 1 - random()*random()\n",
    "\n",
    "# add the diagonals\n",
    "for i in range(n-1):\n",
    "    for j in range(n-1):\n",
    "        idx = i * n + j\n",
    "        idx2 = (i+1) * n + (j+1)\n",
    "        graph[idx][idx2] = graph[idx2][idx] = 1 - random()*random()\n",
    "    \n",
    "Tcsr = mst(csr_matrix(graph))\n",
    "\n",
    "array = Tcsr.toarray().astype(float)\n",
    "        "
   ]
  },
  {
   "cell_type": "code",
   "execution_count": 15,
   "metadata": {},
   "outputs": [
    {
     "data": {
      "text/plain": [
       "0.0"
      ]
     },
     "execution_count": 15,
     "metadata": {},
     "output_type": "execute_result"
    }
   ],
   "source": [
    "array[0][1]"
   ]
  },
  {
   "cell_type": "code",
   "execution_count": null,
   "metadata": {},
   "outputs": [],
   "source": []
  }
 ],
 "metadata": {
  "kernelspec": {
   "display_name": "Python 3",
   "language": "python",
   "name": "python3"
  },
  "language_info": {
   "codemirror_mode": {
    "name": "ipython",
    "version": 3
   },
   "file_extension": ".py",
   "mimetype": "text/x-python",
   "name": "python",
   "nbconvert_exporter": "python",
   "pygments_lexer": "ipython3",
   "version": "3.7.3"
  }
 },
 "nbformat": 4,
 "nbformat_minor": 2
}
