{
 "cells": [
  {
   "cell_type": "code",
   "execution_count": 4,
   "metadata": {},
   "outputs": [
    {
     "name": "stdout",
     "output_type": "stream",
     "text": [
      "Mesh Points:\n",
      "0 [0.0, 0.0, 0.0]\n",
      "1 [2.0, 0.0, 0.0]\n",
      "2 [2.0, 2.0, 0.0]\n",
      "3 [0.0, 2.0, 0.0]\n",
      "4 [0.0, 0.0, 12.0]\n",
      "5 [2.0, 0.0, 12.0]\n",
      "6 [2.0, 2.0, 12.0]\n",
      "7 [0.0, 2.0, 12.0]\n",
      "8 [2.0, 2.0, 6.0]\n",
      "9 [0.0, 0.0, 6.0]\n",
      "10 [0.0, 2.0, 6.0]\n",
      "11 [2.0, 0.0, 6.0]\n",
      "Point numbers in tetrahedra:\n",
      "0 [2, 10, 0, 8]\n",
      "1 [2, 0, 1, 8]\n",
      "2 [4, 11, 9, 8]\n",
      "3 [0, 10, 9, 8]\n",
      "4 [6, 10, 4, 7]\n",
      "5 [4, 11, 8, 5]\n",
      "6 [0, 11, 1, 8]\n",
      "7 [2, 10, 3, 0]\n",
      "8 [6, 10, 8, 4]\n",
      "9 [5, 4, 6, 8]\n",
      "10 [0, 11, 8, 9]\n",
      "11 [4, 10, 8, 9]\n"
     ]
    }
   ],
   "source": [
    "from meshpy.triangle import MeshInfo, build\n",
    "\n",
    "mesh_info = MeshInfo()\n",
    "mesh_info.set_points([\n",
    "    (0,0,0), (2,0,0), (2,2,0), (0,2,0),\n",
    "    (0,0,12), (2,0,12), (2,2,12), (0,2,12),\n",
    "    ])\n",
    "mesh_info.set_facets([\n",
    "    [0,1,2,3],\n",
    "    [4,5,6,7],\n",
    "    [0,4,5,1],\n",
    "    [1,5,6,2],\n",
    "    [2,6,7,3],\n",
    "    [3,7,4,0],\n",
    "    ])\n",
    "mesh = build(mesh_info)\n",
    "print (\"Mesh Points:\")\n",
    "for i, p in enumerate(mesh.points):\n",
    "    print(i, p)\n",
    "print (\"Point numbers in tetrahedra:\")\n",
    "for i, t in enumerate(mesh.elements):\n",
    "    print(i, t)"
   ]
  },
  {
   "cell_type": "code",
   "execution_count": null,
   "metadata": {},
   "outputs": [],
   "source": []
  }
 ],
 "metadata": {
  "kernelspec": {
   "display_name": "Python 3",
   "language": "python",
   "name": "python3"
  },
  "language_info": {
   "codemirror_mode": {
    "name": "ipython",
    "version": 3
   },
   "file_extension": ".py",
   "mimetype": "text/x-python",
   "name": "python",
   "nbconvert_exporter": "python",
   "pygments_lexer": "ipython3",
   "version": "3.7.3"
  }
 },
 "nbformat": 4,
 "nbformat_minor": 2
}
