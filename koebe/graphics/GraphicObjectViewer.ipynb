{
 "cells": [
  {
   "cell_type": "code",
   "execution_count": 11,
   "metadata": {},
   "outputs": [
    {
     "data": {
      "application/javascript": [
       "/* \n",
       " * JavaScript to interact with p5viewer.py for viewing constructions in \n",
       " * Jupyter\n",
       " * Based on example: https://hub.gke.mybinder.org/user/jtpio-p5-jupyter-notebook-z9kpfjdk/notebooks/puzzle.ipynb\n",
       " * @author John C. Bowers\n",
       " */ \n",
       "\n",
       "\n",
       "/*** LIBRARIES ***/\n",
       "require.config({\n",
       "    paths: {\n",
       "        'p5': 'https://cdnjs.cloudflare.com/ajax/libs/p5.js/0.9.0/p5.min',\n",
       "        'lodash': 'https://cdnjs.cloudflare.com/ajax/libs/lodash.js/4.17.4/lodash.min'\n",
       "    }\n",
       "});\n",
       "\n",
       "/*** HELPER FUNCTIONS ***/\n",
       "\n",
       "window.defineModule = function (name, dependencies, module) {\n",
       "    // force the recreation of the module\n",
       "    // (when re-executing a cell)\n",
       "    require.undef(name);\n",
       "    \n",
       "    define(name, dependencies, module);\n",
       "};\n",
       "\n",
       "window.createSketchView = function (name, dependencies, module) {\n",
       "    \n",
       "    require.undef(name);\n",
       "    \n",
       "    define(name,\n",
       "           ['@jupyter-widgets/base', 'p5', 'lodash'].concat(dependencies),\n",
       "           (widgets, p5, _, ...deps) => {\n",
       "\n",
       "        let viewName = `${name}View`;\n",
       "        \n",
       "        let View = widgets.DOMWidgetView.extend({\n",
       "            initialize: function () {\n",
       "                this.el.setAttribute('style', 'text-align: center;');\n",
       "            },\n",
       "\n",
       "            render: function () {\n",
       "                // pass the model as the last dependency so it can\n",
       "                // be accessed in the sketch\n",
       "                let sketch = module(...deps, this.model);\n",
       "                setTimeout(() => {\n",
       "                    this.sketch = new p5(sketch, this.el);                    \n",
       "                }, 0);\n",
       "            },\n",
       "\n",
       "            remove: function () {\n",
       "                // stop the existing sketch when the view is removed\n",
       "                // so p5.js can cancel the animation frame callback and free up resources\n",
       "                if (this.sketch) {\n",
       "                    this.sketch.remove();\n",
       "                    this.sketch = null;\n",
       "                }\n",
       "            }\n",
       "        });\n",
       "        \n",
       "        return {\n",
       "            [viewName] : View,\n",
       "        };\n",
       "    });\n",
       "}\n",
       "\n",
       "// Test module defining a few constants, for example purposes\n",
       "// Such constants should ideally be defined directly in the model\n",
       "// and directly accessed by the view\n",
       "\n",
       "defineModule('testModule', [], () => {\n",
       "    const [W, H] = [500, 500];\n",
       "    return {W, H};\n",
       "})\n",
       "\n",
       "createSketchView('S2Sketch', ['testModule'], (Settings, model) => {\n",
       "    return function(p) {\n",
       "        const {W, H} = Settings;\n",
       "        \n",
       "        p.setup = function(){\n",
       "            let w = model.get('width');\n",
       "            let h = model.get('height');\n",
       "            p.createCanvas(w, h, p.WEBGL);\n",
       "            p.zoom = 1.0;\n",
       "        }\n",
       "\n",
       "        p.draw = function () {\n",
       "            p.background('#fff');\n",
       "//             let t = p.frameCount;\n",
       "//             let n = model.get('n_cubes');\n",
       "//             p.randomSeed(42);\n",
       "//             _.range(n).forEach(i => {\n",
       "//                 const R = 180 //+ 30 * p.sin(t * 0.2 + i);\n",
       "//                 const x = R * p.cos(i * p.TWO_PI / n);\n",
       "//                 const y = R * p.sin(i* p.TWO_PI / n);\n",
       "//                 p.push();\n",
       "//                 p.translate(x, y);\n",
       "//                 p.fill(p.random(255), p.random(255), p.random(255));\n",
       "//                 p.rotateY(t * 0.05 + i);\n",
       "//                 p.box(50);\n",
       "//                 p.pop();\n",
       "//             });\n",
       "            \n",
       "            \n",
       "            p.orbitControl();\n",
       "            //p.translate(p.width / 2.0, p.height / 2.0, 0.0);\n",
       "            p.scale(1.0, -1.0, 1.0);\n",
       "            p.scale(200 * p.zoom);\n",
       "            p.strokeWeight(0.005 / p.zoom);\n",
       "            \n",
       "            //p.pushStyle();\n",
       "            p.noStroke();\n",
       "            p.lights();\n",
       "            //p.sphereDetail(200);\n",
       "            p.sphere(1.0, 48, 32);\n",
       "            //p.sphereDetail(30);\n",
       "        } \n",
       "    };\n",
       "})"
      ],
      "text/plain": [
       "<IPython.core.display.Javascript object>"
      ]
     },
     "metadata": {},
     "output_type": "display_data"
    },
    {
     "data": {
      "application/vnd.jupyter.widget-view+json": {
       "model_id": "719d6ca2e5564140b339e260a4476b55",
       "version_major": 2,
       "version_minor": 0
      },
      "text/plain": [
       "S2Sketch(height=700, width=700)"
      ]
     },
     "metadata": {},
     "output_type": "display_data"
    }
   ],
   "source": [
    "\n",
    "from spherical2viewer import S2Viewer\n",
    "viewer = S2Viewer(700,700)\n",
    "viewer.show()"
   ]
  },
  {
   "cell_type": "code",
   "execution_count": 12,
   "metadata": {},
   "outputs": [
    {
     "ename": "ValueError",
     "evalue": "attempted relative import beyond top-level package",
     "output_type": "error",
     "traceback": [
      "\u001b[0;31m---------------------------------------------------------------------------\u001b[0m",
      "\u001b[0;31mValueError\u001b[0m                                Traceback (most recent call last)",
      "\u001b[0;32m<ipython-input-12-f07ab554e6c7>\u001b[0m in \u001b[0;36m<module>\u001b[0;34m()\u001b[0m\n\u001b[0;32m----> 1\u001b[0;31m \u001b[0;32mfrom\u001b[0m \u001b[0;34m.\u001b[0m\u001b[0;34m.\u001b[0m\u001b[0mgeometries\u001b[0m \u001b[0;32mimport\u001b[0m \u001b[0;34m*\u001b[0m\u001b[0;34m\u001b[0m\u001b[0m\n\u001b[0m",
      "\u001b[0;31mValueError\u001b[0m: attempted relative import beyond top-level package"
     ]
    }
   ],
   "source": []
  },
  {
   "cell_type": "code",
   "execution_count": null,
   "metadata": {},
   "outputs": [],
   "source": []
  }
 ],
 "metadata": {
  "kernelspec": {
   "display_name": "Python 3",
   "language": "python",
   "name": "python3"
  },
  "language_info": {
   "codemirror_mode": {
    "name": "ipython",
    "version": 3
   },
   "file_extension": ".py",
   "mimetype": "text/x-python",
   "name": "python",
   "nbconvert_exporter": "python",
   "pygments_lexer": "ipython3",
   "version": "3.6.5"
  }
 },
 "nbformat": 4,
 "nbformat_minor": 2
}
