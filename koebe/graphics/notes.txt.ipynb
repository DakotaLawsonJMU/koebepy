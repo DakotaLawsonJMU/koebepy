{
 "cells": [
  {
   "cell_type": "code",
   "execution_count": 1,
   "metadata": {},
   "outputs": [
    {
     "data": {
      "text/html": [
       "<h1>Hello, world!</h1>"
      ],
      "text/plain": [
       "<IPython.core.display.HTML object>"
      ]
     },
     "metadata": {},
     "output_type": "display_data"
    }
   ],
   "source": [
    "from IPython.core.display import display, HTML\n",
    "display(HTML('<h1>Hello, world!</h1>'))"
   ]
  },
  {
   "cell_type": "code",
   "execution_count": 5,
   "metadata": {},
   "outputs": [
    {
     "name": "stdout",
     "output_type": "stream",
     "text": [
      "5\n"
     ]
    }
   ],
   "source": [
    "import ipywidgets as widgets\n",
    "from ipywidgets import HBox, VBox\n",
    "import numpy as np\n",
    "import matplotlib.pyplot as plt\n",
    "from IPython.display import display\n",
    "%matplotlib inline\n",
    "@widgets.interact(x=(0, 5))\n",
    "def f(x=5):\n",
    "    print(x)"
   ]
  },
  {
   "cell_type": "markdown",
   "metadata": {},
   "source": [
    "Need to look at [this](https://github.com/jtpio/ipyp5). \n",
    "\n",
    "https://github.com/jtpio/ipyp5"
   ]
  },
  {
   "cell_type": "code",
   "execution_count": 11,
   "metadata": {},
   "outputs": [
    {
     "name": "stdout",
     "output_type": "stream",
     "text": [
      "['Completer', 'CustomTB', 'InteractiveTB', 'SyntaxTB', '__class__', '__delattr__', '__dict__', '__dir__', '__doc__', '__eq__', '__format__', '__ge__', '__getattribute__', '__getstate__', '__gt__', '__hash__', '__init__', '__init_subclass__', '__le__', '__lt__', '__module__', '__ne__', '__new__', '__reduce__', '__reduce_ex__', '__repr__', '__setattr__', '__setstate__', '__sizeof__', '__str__', '__subclasshook__', '__weakref__', '_add_notifiers', '_async_exec', '_call_pdb', '_clear_warning_registry', '_config_changed', '_cross_validation_lock', '_default_banner1', '_default_exiter', '_default_loop_runner', '_enable_html_pager_changed', '_exiter_default', '_find_my_config', '_format_user_obj', '_get_call_pdb', '_get_exc_info', '_getattr_property', '_import_runner', '_indent_current_str', '_inspect', '_instance', '_ipython_dir_changed', '_last_traceback', '_load_config', '_log_default', '_main_mod_cache', '_notify_trait', '_object_find', '_ofind', '_orig_sys_module_state', '_orig_sys_modules_main_mod', '_orig_sys_modules_main_name', '_post_execute', '_prompt_trait_changed', '_register_validator', '_remove_notifiers', '_run_cell', '_set_call_pdb', '_showtraceback', '_sphinxify_docstring_changed', '_trait_default_generators', '_trait_notifiers', '_trait_validators', '_trait_values', '_update_exit_now', '_user_obj_error', '_walk_mro', 'active_eventloop', 'add_traits', 'alias_manager', 'all_ns_refs', 'ask_exit', 'ask_yes_no', 'ast_node_interactivity', 'ast_transformers', 'atexit_operations', 'auto_rewrite_input', 'autoawait', 'autocall', 'autoindent', 'automagic', 'banner', 'banner1', 'banner2', 'builtin_trap', 'cache_size', 'call_pdb', 'check_complete', 'class_config_rst_doc', 'class_config_section', 'class_get_help', 'class_get_trait_help', 'class_own_trait_events', 'class_own_traits', 'class_print_help', 'class_trait_names', 'class_traits', 'cleanup', 'clear_instance', 'clear_main_mod_cache', 'color_info', 'colors', 'compile', 'complete', 'config', 'configurables', 'cross_validation_lock', 'custom_exceptions', 'data_pub', 'data_pub_class', 'db', 'debug', 'debugger', 'debugger_cls', 'default_user_namespaces', 'define_macro', 'del_var', 'dir_stack', 'disable_failing_post_execute', 'display_formatter', 'display_page', 'display_pub', 'display_pub_class', 'display_trap', 'displayhook', 'displayhook_class', 'drop_by_id', 'enable_gui', 'enable_html_pager', 'enable_matplotlib', 'enable_pylab', 'ev', 'events', 'ex', 'excepthook', 'execution_count', 'exit_now', 'exiter', 'extension_manager', 'extract_input_lines', 'filename', 'find_cell_magic', 'find_line_magic', 'find_magic', 'find_user_code', 'get_exception_only', 'get_ipython', 'get_parent', 'getoutput', 'has_trait', 'history_length', 'history_load_length', 'history_manager', 'hold_trait_notifications', 'home_dir', 'hooks', 'indent_current_nsp', 'init_alias', 'init_builtins', 'init_completer', 'init_create_namespaces', 'init_data_pub', 'init_deprecation_warnings', 'init_display_formatter', 'init_display_pub', 'init_displayhook', 'init_encoding', 'init_environment', 'init_events', 'init_extension_manager', 'init_history', 'init_hooks', 'init_inspector', 'init_instance_attrs', 'init_io', 'init_ipython_dir', 'init_logger', 'init_logstart', 'init_magics', 'init_payload', 'init_pdb', 'init_prefilter', 'init_profile_dir', 'init_prompts', 'init_pushd_popd_magic', 'init_readline', 'init_syntax_highlighting', 'init_sys_modules', 'init_traceback_handlers', 'init_user_ns', 'init_virtualenv', 'initialized', 'input_splitter', 'input_transformer_manager', 'input_transformers_cleanup', 'input_transformers_post', 'inspector', 'instance', 'ipython_dir', 'keepkernel_on_exit', 'kernel', 'last_execution_result', 'last_execution_succeeded', 'log', 'logappend', 'logfile', 'logger', 'logstart', 'loop_runner', 'loop_runner_map', 'magic', 'magics_manager', 'meta', 'mktempfile', 'more', 'new_main_mod', 'notify_change', 'ns_table', 'object_info_string_level', 'object_inspect', 'object_inspect_mime', 'object_inspect_text', 'observe', 'on_trait_change', 'parent', 'parent_header', 'payload_manager', 'pdb', 'prefilter', 'prefilter_manager', 'prepare_user_module', 'profile', 'profile_dir', 'prompt_in1', 'prompt_in2', 'prompt_out', 'prompts_pad_left', 'push', 'pycolorize', 'pylab_gui_select', 'quiet', 'raw_input_original', 'readline_use', 'refresh_style', 'register_magic_function', 'register_magics', 'register_post_execute', 'reset', 'reset_selective', 'restore_sys_module_state', 'run_ast_nodes', 'run_cell', 'run_cell_async', 'run_cell_magic', 'run_code', 'run_line_magic', 'runcode', 'safe_execfile', 'safe_execfile_ipy', 'safe_run_module', 'save_sys_module_state', 'section_names', 'separate_in', 'separate_out', 'separate_out2', 'set_autoindent', 'set_completer_frame', 'set_custom_completer', 'set_custom_exc', 'set_hook', 'set_next_input', 'set_parent', 'set_trait', 'setup_instance', 'should_run_async', 'show_banner', 'show_rewritten_input', 'show_usage', 'show_usage_error', 'showindentationerror', 'showsyntaxerror', 'showtraceback', 'sphinxify_docstring', 'starting_dir', 'stdin_encoding', 'strdispatchers', 'switch_doctest_mode', 'sys_excepthook', 'system', 'system_piped', 'system_raw', 'tempdirs', 'tempfiles', 'trait_events', 'trait_metadata', 'trait_names', 'traits', 'transform_ast', 'transform_cell', 'unobserve', 'unobserve_all', 'update_config', 'user_expressions', 'user_global_ns', 'user_module', 'user_ns', 'user_ns_hidden', 'var_expand', 'wildcards_case_sensitive', 'write', 'write_err', 'xmode']\n"
     ]
    }
   ],
   "source": [
    "from IPython import get_ipython\n",
    "ipython = get_ipython()\n"
   ]
  },
  {
   "cell_type": "code",
   "execution_count": null,
   "metadata": {},
   "outputs": [],
   "source": []
  }
 ],
 "metadata": {
  "kernelspec": {
   "display_name": "Python 3",
   "language": "python",
   "name": "python3"
  },
  "language_info": {
   "codemirror_mode": {
    "name": "ipython",
    "version": 3
   },
   "file_extension": ".py",
   "mimetype": "text/x-python",
   "name": "python",
   "nbconvert_exporter": "python",
   "pygments_lexer": "ipython3",
   "version": "3.6.0"
  }
 },
 "nbformat": 4,
 "nbformat_minor": 2
}
